{
 "cells": [
  {
   "cell_type": "markdown",
   "metadata": {
    "id": "tHKMvYOTnLyF"
   },
   "source": [
    "# Convex hull and features extraction\n",
    "Documentación de pysptools:\n",
    "https://pysptools.sourceforge.io/spectro.html"
   ]
  },
  {
   "cell_type": "code",
   "execution_count": 2,
   "metadata": {
    "colab": {
     "base_uri": "https://localhost:8080/"
    },
    "executionInfo": {
     "elapsed": 8987,
     "status": "ok",
     "timestamp": 1695918671759,
     "user": {
      "displayName": "Natalia Abigail Pérez Romero",
      "userId": "02764911894153294828"
     },
     "user_tz": 360
    },
    "id": "FScr5O2eoNd7",
    "outputId": "ba28d839-5968-4f91-b7de-008fd9cc6522"
   },
   "outputs": [
    {
     "name": "stdout",
     "output_type": "stream",
     "text": [
      "Collecting pysptools\n",
      "  Downloading pysptools-0.15.0.tar.gz (8.1 MB)\n",
      "\u001b[2K     \u001b[90m━━━━━━━━━━━━━━━━━━━━━━━━━━━━━━━━━━━━━━━━\u001b[0m \u001b[32m8.1/8.1 MB\u001b[0m \u001b[31m18.1 MB/s\u001b[0m eta \u001b[36m0:00:00\u001b[0m\n",
      "\u001b[?25h  Preparing metadata (setup.py) ... \u001b[?25l\u001b[?25hdone\n",
      "Building wheels for collected packages: pysptools\n",
      "  Building wheel for pysptools (setup.py) ... \u001b[?25l\u001b[?25hdone\n",
      "  Created wheel for pysptools: filename=pysptools-0.15.0-py3-none-any.whl size=8133733 sha256=ebf9351b7b814ad375bd170d546aec87c6365789d2717a29922e28eee54bc212\n",
      "  Stored in directory: /root/.cache/pip/wheels/ea/08/3b/c045ea3722a5fef1f8698f060a17b59140235fef580fe4f1b5\n",
      "Successfully built pysptools\n",
      "Installing collected packages: pysptools\n",
      "Successfully installed pysptools-0.15.0\n"
     ]
    }
   ],
   "source": [
    "!pip install pysptools"
   ]
  },
  {
   "cell_type": "code",
   "execution_count": 4,
   "metadata": {
    "executionInfo": {
     "elapsed": 186,
     "status": "ok",
     "timestamp": 1695918750897,
     "user": {
      "displayName": "Natalia Abigail Pérez Romero",
      "userId": "02764911894153294828"
     },
     "user_tz": 360
    },
    "id": "HaxkdMBamf7_"
   },
   "outputs": [],
   "source": [
    "from __future__ import print_function\n",
    "\n",
    "%matplotlib inline\n",
    "\n",
    "import os\n",
    "import pysptools.spectro as spectro\n",
    "\n",
    "\n",
    "class SpecLib(object):\n",
    "\n",
    "    def __init__(self, lib_name):\n",
    "        rd = spectro.EnviReader(lib_name)\n",
    "        self.lib = spectro.USGS06SpecLib(rd)\n",
    "\n",
    "    def get(self, substance, sample):\n",
    "        for spectrum, sample_id, descrip, idx in self.lib.get_substance(substance, sample):\n",
    "            return spectrum\n",
    "\n",
    "    def get_wvl(self):\n",
    "        return self.lib.get_wvl()\n",
    "\n",
    "\n",
    "def display_convex_hull(lib, substance, sample):\n",
    "    spectrum = lib.get(substance, sample)\n",
    "    wvl = lib.get_wvl()\n",
    "\n",
    "    schq = spectro.SpectrumConvexHullQuotient(spectrum, wvl)\n",
    "    display_name = '{0}_{1}'.format(substance, sample)\n",
    "    schq.display(display_name)\n",
    "\n",
    "\n",
    "def extract_and_display_features(lib, baseline, substance, sample):\n",
    "    \"\"\"\n",
    "    Process the s06av95a_envi file and extract the <substance> and/or <sample>\n",
    "    features according to the <baseline> value.\n",
    "    \"\"\"\n",
    "    spectrum = lib.get(substance, sample)\n",
    "    wvl = lib.get_wvl()\n",
    "    fea = spectro.FeaturesConvexHullQuotient(spectrum, wvl, baseline=baseline)\n",
    "    display_name = '{0}_{1}'.format(substance, sample)\n",
    "    fea.display(display_name, feature='all')\n",
    "\n"
   ]
  }
 ],
 "metadata": {
  "colab": {
   "authorship_tag": "ABX9TyMExp1mV5xkQvsZcZPE8pga",
   "provenance": []
  },
  "kernelspec": {
   "display_name": "Python 3 (ipykernel)",
   "language": "python",
   "name": "python3"
  },
  "language_info": {
   "codemirror_mode": {
    "name": "ipython",
    "version": 3
   },
   "file_extension": ".py",
   "mimetype": "text/x-python",
   "name": "python",
   "nbconvert_exporter": "python",
   "pygments_lexer": "ipython3",
   "version": "3.11.4"
  }
 },
 "nbformat": 4,
 "nbformat_minor": 4
}
