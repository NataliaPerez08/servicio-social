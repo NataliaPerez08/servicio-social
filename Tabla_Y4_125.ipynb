{
 "cells": [
  {
   "cell_type": "markdown",
   "metadata": {
    "id": "x6wiQuLUx7LT"
   },
   "source": [
    "# Tabla Y4-125"
   ]
  },
  {
   "cell_type": "code",
   "execution_count": 2,
   "metadata": {
    "colab": {
     "base_uri": "https://localhost:8080/"
    },
    "id": "DcmJCn7ky-rN",
    "outputId": "ba232501-40d3-4b5e-b634-24dbfc551306",
    "scrolled": true
   },
   "outputs": [],
   "source": [
    "#!pip install specdal spectrum"
   ]
  },
  {
   "cell_type": "markdown",
   "metadata": {},
   "source": [
    "Extraer datos"
   ]
  },
  {
   "cell_type": "code",
   "execution_count": 3,
   "metadata": {
    "colab": {
     "base_uri": "https://localhost:8080/",
     "height": 646
    },
    "editable": true,
    "id": "2B62yvuXy7QX",
    "outputId": "2bed9ad5-6fbc-4be3-b4ed-52af1ed5e82c",
    "slideshow": {
     "slide_type": ""
    },
    "tags": []
   },
   "outputs": [
    {
     "data": {
      "text/plain": [
       "125"
      ]
     },
     "execution_count": 3,
     "metadata": {},
     "output_type": "execute_result"
    }
   ],
   "source": [
    "import os\n",
    "from specdal import Collection, Spectrum, read\n",
    "from matplotlib import pyplot as plt\n",
    "import pandas as pd\n",
    "import numpy as np\n",
    "import sklearn\n",
    "from sklearn.model_selection import train_test_split\n",
    "from sklearn.naive_bayes import GaussianNB\n",
    "\n",
    "datadir = \"./Espectros_FORS_2/Y4\"\n",
    "archivos = list()\n",
    "specs = list()\n",
    "cont = 0\n",
    "aux = 0\n",
    "etiquetas = ['A1','A2','A3','A4','A5',\n",
    "             'B1','B2','B3','B4','B5',\n",
    "             'C1','C2','C3','C4','C5',\n",
    "             'D1','D2','D3','D4','D5',\n",
    "             'E1','E2','E3','E4','E5',\n",
    "            ]\n",
    "features = []\n",
    "for f in os.listdir(datadir):\n",
    "    data = pd.read_csv(datadir+\"/\"+f,delimiter='\\t')\n",
    "    \n",
    "    title =str(f)[:-4]\n",
    "    dev_x = data['Wavelength']\n",
    "    dev_y = data[title]\n",
    "    \n",
    "    #plt.plot(dev_x, dev_y)\n",
    "    df = pd.DataFrame({'x': dev_x, 'y': dev_y})\n",
    "    archivos.append(f)\n",
    "    tmp_arr = df.to_numpy()\n",
    "    specs.append(tmp_arr)\n",
    "\n",
    "    tmp = np.array(dev_y)\n",
    "    features.append(tmp)\n",
    "    aux+=1\n",
    "    if aux <= 125 and aux%5==0:\n",
    "        #plt.ylabel('Reflectance')\n",
    "        #plt.xlabel('Wavelength')\n",
    "        t = \"Tabla Y4\",etiquetas[cont]\n",
    "        cont+=1\n",
    "        #plt.title(t)\n",
    "        #plt.show()\n",
    "len(features)"
   ]
  },
  {
   "cell_type": "markdown",
   "metadata": {},
   "source": [
    "# Bayes ingenuo"
   ]
  },
  {
   "cell_type": "code",
   "execution_count": 4,
   "metadata": {},
   "outputs": [],
   "source": [
    "# Función auxiliar  Cuenta las diferencias entre dos listas y \n",
    "# muestra el índice donde son diferentes.\n",
    "def show_differences(list1, list2):\n",
    "  differences = {}\n",
    "  for i in range(len(list1)):\n",
    "    if list1[i] != list2[i]:\n",
    "      differences[i] = [list1[i], list2[i]]\n",
    "\n",
    "  return differences"
   ]
  },
  {
   "cell_type": "code",
   "execution_count": 5,
   "metadata": {
    "editable": true,
    "slideshow": {
     "slide_type": ""
    },
    "tags": []
   },
   "outputs": [
    {
     "name": "stdout",
     "output_type": "stream",
     "text": [
      "124\n",
      "[  0   1   2   3   4   5   6   7   8   9  10  11  12  13  14  15  16  17\n",
      "  18  19  20  21  22  23  24  25  26  27  28  29  30  31  32  33  34  35\n",
      "  36  37  38  39  40  41  42  43  44  45  46  47  48  49  50  51  52  53\n",
      "  54  55  56  57  58  59  60  61  62  63  64  65  66  67  68  69  70  71\n",
      "  70  73  74  75  76  77  78  79  80  81  82  83  84  85  86  87  88  89\n",
      "  90  91  92  93  94  95  96  97  98  99 100 101 102 103 104 105 106 107\n",
      " 108 109 110 111 112 113 114 115 116 117 118 119 120 121 122 123 124]\n",
      "{72: [70, 72]}\n"
     ]
    }
   ],
   "source": [
    "#feature_names = data['feature_names']\n",
    "feature_names = ['wavelength','reflectance']\n",
    "labels = np.arange(125)\n",
    "\n",
    "train, test, train_labels, test_labels = train_test_split(\n",
    "   features,labels,test_size = 0.00001, random_state = 22\n",
    ")\n",
    "\n",
    "GNBclf = GaussianNB()\n",
    "\n",
    "model = GNBclf.fit(train, train_labels)\n",
    "print(len(model.classes_))\n",
    "test=features\n",
    "preds = GNBclf.predict(test)\n",
    "print(preds)\n",
    "print(show_differences(preds, labels))"
   ]
  },
  {
   "cell_type": "markdown",
   "metadata": {},
   "source": [
    "# Linear regression"
   ]
  },
  {
   "cell_type": "code",
   "execution_count": 15,
   "metadata": {},
   "outputs": [
    {
     "name": "stdout",
     "output_type": "stream",
     "text": [
      "Predicción en 0  es  -0.0\n",
      "Predicción en 1  es  1.0\n",
      "Predicción en 2  es  2.0\n",
      "Predicción en 3  es  3.0\n",
      "Predicción en 4  es  4.0\n",
      "Predicción en 5  es  5.0\n",
      "Predicción en 6  es  6.0\n",
      "Predicción en 7  es  7.0\n",
      "Predicción en 8  es  8.0\n",
      "Predicción en 9  es  9.0\n",
      "Predicción en 10  es  10.0\n",
      "Predicción en 11  es  11.0\n",
      "Predicción en 12  es  12.0\n",
      "Predicción en 13  es  13.0\n",
      "Predicción en 14  es  14.0\n",
      "Predicción en 15  es  15.0\n",
      "Predicción en 16  es  16.0\n",
      "Predicción en 17  es  17.0\n",
      "Predicción en 18  es  18.0\n",
      "Predicción en 19  es  19.0\n",
      "Predicción en 20  es  20.0\n",
      "Predicción en 21  es  21.0\n",
      "Predicción en 22  es  22.0\n",
      "Predicción en 23  es  23.0\n",
      "Predicción en 24  es  24.0\n",
      "Predicción en 25  es  25.0\n",
      "Predicción en 26  es  26.0\n",
      "Predicción en 27  es  27.0\n",
      "Predicción en 28  es  28.0\n",
      "Predicción en 29  es  29.0\n",
      "Predicción en 30  es  30.0\n",
      "Predicción en 31  es  31.0\n",
      "Predicción en 32  es  32.0\n",
      "Predicción en 33  es  33.0\n",
      "Predicción en 34  es  34.0\n",
      "Predicción en 35  es  35.0\n",
      "Predicción en 36  es  36.0\n",
      "Predicción en 37  es  37.0\n",
      "Predicción en 38  es  38.0\n",
      "Predicción en 39  es  39.0\n",
      "Predicción en 40  es  40.0\n",
      "Predicción en 41  es  41.0\n",
      "Predicción en 42  es  42.0\n",
      "Predicción en 43  es  43.0\n",
      "Predicción en 44  es  44.0\n",
      "Predicción en 45  es  45.0\n",
      "Predicción en 46  es  46.0\n",
      "Predicción en 47  es  47.0\n",
      "Predicción en 48  es  48.0\n",
      "Predicción en 49  es  49.0\n",
      "Predicción en 50  es  50.0\n",
      "Predicción en 51  es  51.0\n",
      "Predicción en 52  es  52.0\n",
      "Predicción en 53  es  53.0\n",
      "Predicción en 54  es  54.0\n",
      "Predicción en 55  es  55.0\n",
      "Predicción en 56  es  56.0\n",
      "Predicción en 57  es  57.0\n",
      "Predicción en 58  es  58.0\n",
      "Predicción en 59  es  59.0\n",
      "Predicción en 60  es  60.0\n",
      "Predicción en 61  es  61.0\n",
      "Predicción en 62  es  62.0\n",
      "Predicción en 63  es  63.0\n",
      "Predicción en 64  es  64.0\n",
      "Predicción en 65  es  65.0\n",
      "Predicción en 66  es  66.0\n",
      "Predicción en 67  es  67.0\n",
      "Predicción en 68  es  68.0\n",
      "Predicción en 69  es  69.0\n",
      "Predicción en 70  es  70.0\n",
      "Predicción en 71  es  71.0\n",
      "Predicción en 72  es  74.51\n",
      "Predicción en 73  es  73.0\n",
      "Predicción en 74  es  74.0\n",
      "Predicción en 75  es  75.0\n",
      "Predicción en 76  es  76.0\n",
      "Predicción en 77  es  77.0\n",
      "Predicción en 78  es  78.0\n",
      "Predicción en 79  es  79.0\n",
      "Predicción en 80  es  80.0\n",
      "Predicción en 81  es  81.0\n",
      "Predicción en 82  es  82.0\n",
      "Predicción en 83  es  83.0\n",
      "Predicción en 84  es  84.0\n",
      "Predicción en 85  es  85.0\n",
      "Predicción en 86  es  86.0\n",
      "Predicción en 87  es  87.0\n",
      "Predicción en 88  es  88.0\n",
      "Predicción en 89  es  89.0\n",
      "Predicción en 90  es  90.0\n",
      "Predicción en 91  es  91.0\n",
      "Predicción en 92  es  92.0\n",
      "Predicción en 93  es  93.0\n",
      "Predicción en 94  es  94.0\n",
      "Predicción en 95  es  95.0\n",
      "Predicción en 96  es  96.0\n",
      "Predicción en 97  es  97.0\n",
      "Predicción en 98  es  98.0\n",
      "Predicción en 99  es  99.0\n",
      "Predicción en 100  es  100.0\n",
      "Predicción en 101  es  101.0\n",
      "Predicción en 102  es  102.0\n",
      "Predicción en 103  es  103.0\n",
      "Predicción en 104  es  104.0\n",
      "Predicción en 105  es  105.0\n",
      "Predicción en 106  es  106.0\n",
      "Predicción en 107  es  107.0\n",
      "Predicción en 108  es  108.0\n",
      "Predicción en 109  es  109.0\n",
      "Predicción en 110  es  110.0\n",
      "Predicción en 111  es  111.0\n",
      "Predicción en 112  es  112.0\n",
      "Predicción en 113  es  113.0\n",
      "Predicción en 114  es  114.0\n",
      "Predicción en 115  es  115.0\n",
      "Predicción en 116  es  116.0\n",
      "Predicción en 117  es  117.0\n",
      "Predicción en 118  es  118.0\n",
      "Predicción en 119  es  119.0\n",
      "Predicción en 120  es  120.0\n",
      "Predicción en 121  es  121.0\n",
      "Predicción en 122  es  122.0\n",
      "Predicción en 123  es  123.0\n",
      "Predicción en 124  es  124.0\n",
      "{72: [70, 72]}\n"
     ]
    }
   ],
   "source": [
    "from sklearn.linear_model import LinearRegression\n",
    "reg = LinearRegression().fit(train, train_labels)\n",
    "reg.score(train, train_labels)\n",
    "pb = reg.predict(test)\n",
    "len(pb)\n",
    "for i in range(len(pb)):\n",
    "    print(\"Predicción en\",i,\" es \",round(pb[i],2))\n",
    "\n",
    "print(show_differences(preds, labels))"
   ]
  },
  {
   "cell_type": "markdown",
   "metadata": {},
   "source": [
    "# Logistic Regression"
   ]
  },
  {
   "cell_type": "code",
   "execution_count": 16,
   "metadata": {},
   "outputs": [
    {
     "name": "stdout",
     "output_type": "stream",
     "text": [
      "{72: [70, 72]}\n"
     ]
    }
   ],
   "source": [
    "from sklearn.linear_model import LogisticRegression\n",
    "from sklearn.pipeline import make_pipeline\n",
    "from sklearn.preprocessing import StandardScaler\n",
    "\n",
    "clf = LogisticRegression(penalty='l2',solver='lbfgs', max_iter=4000)\n",
    "#make_pipeline(StandardScaler(), LogisticRegression())\n",
    "clf.fit(train, train_labels)\n",
    "clf.score(train, train_labels)\n",
    "clf.predict_proba(test)\n",
    "clf.predict(test)\n",
    "\n",
    "print(show_differences(preds, labels))"
   ]
  },
  {
   "cell_type": "markdown",
   "metadata": {},
   "source": [
    "# Perceptron"
   ]
  },
  {
   "cell_type": "code",
   "execution_count": 18,
   "metadata": {},
   "outputs": [
    {
     "name": "stdout",
     "output_type": "stream",
     "text": [
      "{72: [70, 72]}\n"
     ]
    }
   ],
   "source": [
    "from sklearn.datasets import load_digits\n",
    "from sklearn.linear_model import Perceptron\n",
    "clf = Perceptron(tol=1e-3, random_state=0)\n",
    "clf.fit(train, train_labels)\n",
    "Perceptron()\n",
    "clf.score(train, train_labels)\n",
    "clf.predict(train)\n",
    "\n",
    "print(show_differences(preds, labels))"
   ]
  }
 ],
 "metadata": {
  "colab": {
   "provenance": []
  },
  "kernelspec": {
   "display_name": "Python 3 (ipykernel)",
   "language": "python",
   "name": "python3"
  },
  "language_info": {
   "codemirror_mode": {
    "name": "ipython",
    "version": 3
   },
   "file_extension": ".py",
   "mimetype": "text/x-python",
   "name": "python",
   "nbconvert_exporter": "python",
   "pygments_lexer": "ipython3",
   "version": "3.11.4"
  }
 },
 "nbformat": 4,
 "nbformat_minor": 4
}
