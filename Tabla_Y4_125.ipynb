{
 "cells": [
  {
   "cell_type": "markdown",
   "metadata": {
    "id": "x6wiQuLUx7LT"
   },
   "source": [
    "# Tabla Y4-125"
   ]
  },
  {
   "cell_type": "code",
   "execution_count": null,
   "metadata": {
    "colab": {
     "base_uri": "https://localhost:8080/"
    },
    "id": "DcmJCn7ky-rN",
    "outputId": "ba232501-40d3-4b5e-b634-24dbfc551306",
    "scrolled": true
   },
   "outputs": [],
   "source": [
    "#!pip install specdal spectrum"
   ]
  },
  {
   "cell_type": "markdown",
   "metadata": {},
   "source": [
    "Extraer datos"
   ]
  },
  {
   "cell_type": "code",
   "execution_count": null,
   "metadata": {
    "colab": {
     "base_uri": "https://localhost:8080/",
     "height": 646
    },
    "editable": true,
    "id": "2B62yvuXy7QX",
    "outputId": "2bed9ad5-6fbc-4be3-b4ed-52af1ed5e82c",
    "slideshow": {
     "slide_type": ""
    },
    "tags": []
   },
   "outputs": [],
   "source": [
    "import os\n",
    "#from specdal import Collection, Spectrum, read\n",
    "from matplotlib import pyplot as plt\n",
    "import pandas as pd\n",
    "import numpy as np\n",
    "import sklearn\n",
    "from sklearn.model_selection import train_test_split\n",
    "from sklearn.naive_bayes import GaussianNB\n",
    "\n",
    "datadir = \"./Espectros_FORS_2/Y4\"\n",
    "archivos = list()\n",
    "etiquetas = ['A1','A2','A3','A4','A5',\n",
    "             'B1','B2','B3','B4','B5',\n",
    "             'C1','C2','C3','C4','C5',\n",
    "             'D1','D2','D3','D4','D5',\n",
    "             'E1','E2','E3','E4','E5',\n",
    "            ]\n",
    "\n",
    "for f in os.listdir(datadir):\n",
    "    title =str(f)[8:-8]\n",
    "    archivos.append(f)\n",
    "archivos.sort()"
   ]
  },
  {
   "cell_type": "code",
   "execution_count": null,
   "metadata": {},
   "outputs": [],
   "source": [
    "specs = list()\n",
    "specs_df = list()\n",
    "features = []\n",
    "\n",
    "def dar_intervalo(inicio,fin):\n",
    "    return [inicio-350,fin-350]\n",
    "interval=dar_intervalo(350,2152)\n",
    "\n",
    "ini=interval[0]\n",
    "fin=interval[1]"
   ]
  },
  {
   "cell_type": "code",
   "execution_count": null,
   "metadata": {},
   "outputs": [],
   "source": [
    "for f in archivos:\n",
    "    data = pd.read_csv(datadir+\"/\"+f,delimiter='\\t')\n",
    "    title =str(f)[:-4]\n",
    "    dev_x = data['Wavelength'][ini:fin]\n",
    "    dev_y = data[title][ini:fin]\n",
    "    df = pd.DataFrame({'x': dev_x, 'y': dev_y})\n",
    "    specs_df.append(df)\n",
    "    tmp_arr = df.to_numpy()\n",
    "    specs.append(tmp_arr)\n",
    "\n",
    "    tmp = np.array(dev_y)\n",
    "    features.append(tmp)\n",
    "print(len(specs))\n",
    "print(len(specs_df))\n",
    "len(features)"
   ]
  },
  {
   "cell_type": "code",
   "execution_count": null,
   "metadata": {},
   "outputs": [],
   "source": [
    "def imprimir_5_en_5():\n",
    "    cont = 0\n",
    "    aux = 0\n",
    "    for f in specs_df:\n",
    "        dev_x = f['x'].to_numpy()\n",
    "        dev_y = f['y'].to_numpy()\n",
    "        plt.plot(dev_x, dev_y)\n",
    "        aux+=1\n",
    "        if aux == 5:\n",
    "            aux=0\n",
    "            plt.xlabel('Wavelength')\n",
    "            plt.ylabel('Reflectance')\n",
    "            t = \"Tabla Y4\",etiquetas[cont]\n",
    "            plt.title(t)\n",
    "            plt.show()\n",
    "            cont+=1\n",
    "#imprimir_5_en_5()"
   ]
  },
  {
   "cell_type": "code",
   "execution_count": null,
   "metadata": {},
   "outputs": [],
   "source": [
    "def imprime_todos():\n",
    "    for f in specs_df:\n",
    "        dev_x = f['x'].to_numpy()\n",
    "        dev_y = f['y'].to_numpy()\n",
    "        print(dev_y)\n",
    "        plt.ylabel('Reflectance')\n",
    "        plt.xlabel('Wavelength')\n",
    "        t = \"Tabla Y4\"#,etiquetas[cont]\n",
    "        plt.plot(dev_x, dev_y)\n",
    "        plt.title(t)\n",
    "        plt.show()\n",
    "      \n",
    "        cont+=1"
   ]
  },
  {
   "cell_type": "code",
   "execution_count": null,
   "metadata": {},
   "outputs": [],
   "source": [
    "#feature_names = data['feature_names']\n",
    "feature_names = ['wavelength','reflectance']\n",
    "\n",
    "#labels = np.concatenate((lista, lista))\n",
    "#features=np.concatenate((features, features))\n",
    "indexes = dev_x\n",
    "labels = [i for i in range(25) for _ in range(5)]\n",
    "print(len(labels))\n",
    "print(len(features))"
   ]
  },
  {
   "cell_type": "markdown",
   "metadata": {},
   "source": [
    "# Bayes ingenuo"
   ]
  },
  {
   "cell_type": "code",
   "execution_count": null,
   "metadata": {},
   "outputs": [],
   "source": [
    "temp_f=features\n",
    "# Función auxiliar  Cuenta las diferencias entre dos listas y \n",
    "# muestra el índice donde son diferentes.\n",
    "def show_differences(list1, list2):\n",
    "  differences = {}\n",
    "  for i in range(len(list1)):\n",
    "    if list1[i] != list2[i]:\n",
    "      differences[i] = [list1[i], list2[i]]\n",
    "  return differences\n",
    "features=temp_f"
   ]
  },
  {
   "cell_type": "code",
   "execution_count": null,
   "metadata": {
    "editable": true,
    "slideshow": {
     "slide_type": ""
    },
    "tags": []
   },
   "outputs": [],
   "source": [
    "train, test, train_labels, test_labels = train_test_split(\n",
    "   features,labels,test_size = 1, random_state = 22\n",
    ")\n",
    "\n",
    "#print(train)\n",
    "#print(test)\n",
    "#print(train_labels)\n",
    "#print(test_labels)\n",
    "\n",
    "\n",
    "GNBclf = GaussianNB()\n",
    "\n",
    "model = GNBclf.fit(train, train_labels)\n",
    "print(len(model.classes_))\n",
    "test=features[:125]\n",
    "preds = GNBclf.predict(test)\n",
    "print(preds)\n",
    "print(show_differences(preds, labels))\n",
    "print(GNBclf.score(test,labels))"
   ]
  },
  {
   "cell_type": "markdown",
   "metadata": {},
   "source": [
    "# Linear regression"
   ]
  },
  {
   "cell_type": "code",
   "execution_count": null,
   "metadata": {},
   "outputs": [],
   "source": [
    "from sklearn.linear_model import LinearRegression\n",
    "reg = LinearRegression().fit(train, train_labels)\n",
    "pb = reg.predict(test)\n",
    "print(reg.score(train, train_labels))\n",
    "\n",
    "len(pb)\n",
    "for i in range(len(pb)):\n",
    "    print(\"Predicción en\",i,\" es \",round(pb[i],2))\n",
    "\n",
    "print(show_differences(preds, labels))"
   ]
  },
  {
   "cell_type": "markdown",
   "metadata": {},
   "source": [
    "# Logistic Regression"
   ]
  },
  {
   "cell_type": "code",
   "execution_count": null,
   "metadata": {},
   "outputs": [],
   "source": [
    "from sklearn.linear_model import LogisticRegression\n",
    "from sklearn.pipeline import make_pipeline\n",
    "from sklearn.preprocessing import StandardScaler\n",
    "\n",
    "clf = LogisticRegression(penalty='l2',solver='lbfgs', max_iter=4000)\n",
    "#make_pipeline(StandardScaler(), LogisticRegression())\n",
    "clf.fit(train, train_labels)\n",
    "print(clf.score(train, train_labels))\n",
    "print(clf.predict_proba(test))\n",
    "print(clf.predict(test))\n",
    "\n",
    "print(show_differences(preds, labels))"
   ]
  },
  {
   "cell_type": "markdown",
   "metadata": {},
   "source": [
    "# Perceptron"
   ]
  },
  {
   "cell_type": "code",
   "execution_count": null,
   "metadata": {},
   "outputs": [],
   "source": [
    "from sklearn.datasets import load_digits\n",
    "from sklearn.linear_model import Perceptron\n",
    "clf = Perceptron(tol=1e-3, random_state=0)\n",
    "clf.fit(train, train_labels)\n",
    "Perceptron()\n",
    "preds=clf.predict(train)\n",
    "print(clf.score(train, train_labels))\n",
    "\n",
    "print(show_differences(preds, labels))"
   ]
  },
  {
   "cell_type": "markdown",
   "metadata": {},
   "source": [
    "# K-Nearest Neighbours\n"
   ]
  },
  {
   "cell_type": "code",
   "execution_count": null,
   "metadata": {},
   "outputs": [],
   "source": [
    "size=len(indexes)\n",
    "nlabels= list()\n",
    "for e in etiquetas:\n",
    "    er = [e for _ in range(5)]\n",
    "    nlabels+=er"
   ]
  },
  {
   "cell_type": "code",
   "execution_count": null,
   "metadata": {},
   "outputs": [],
   "source": [
    "i=0\n",
    "# Concatenate Target values\n",
    "for _ in range(125):\n",
    "    tmp_class = [nlabels[i] for _ in range(size)]\n",
    "    array_tmp = np.stack([indexes,features[i],tmp_class], axis=1)\n",
    "    if i==0:\n",
    "        y = np.array(array_tmp)\n",
    "    else:\n",
    "        y = np.concatenate((y,array_tmp))\n",
    "    i+=1\n",
    "np.array(y).shape\n",
    "y"
   ]
  },
  {
   "cell_type": "code",
   "execution_count": null,
   "metadata": {},
   "outputs": [],
   "source": [
    "# X Training data\n",
    "for i in range(125):\n",
    "    t = [2 for _ in range(size)]\n",
    "    array_tmp = np.stack([features[i],t], axis=1)\n",
    "    if i==0:\n",
    "        X = np.array(array_tmp)\n",
    "    else:\n",
    "        X = np.concatenate((X,array_tmp))\n",
    "np.array(X).shape\n",
    "X"
   ]
  },
  {
   "cell_type": "code",
   "execution_count": null,
   "metadata": {},
   "outputs": [],
   "source": [
    "from sklearn.neighbors import KNeighborsClassifier\n",
    "classes = nlabels\n",
    "neigh = KNeighborsClassifier()\n",
    "neigh.classes_ = classes\n",
    "neigh.n_features_in_=2\n",
    "neigh.n_jobs=3\n",
    "\n",
    "neigh.fit(X,y)"
   ]
  },
  {
   "cell_type": "code",
   "execution_count": null,
   "metadata": {},
   "outputs": [],
   "source": [
    "def predecir(spec):\n",
    "    t = [2 for _ in range(size)]\n",
    "    array_X = np.stack([spec,t], axis=1)\n",
    "    #array_X = i\n",
    "    prediccion=neigh.predict(array_X)\n",
    "    print(\"Prediccion=\")\n",
    "    print(prediccion)\n",
    "    frec = {'A1':0,'A2':0,'A3':0,'A4':0,'A5':0,\n",
    "                'B1':0,'B2':0,'B3':0,'B4':0,'B5':0,\n",
    "                'C1':0,'C2':0,'C3':0,'C4':0,'C5':0,\n",
    "                'D1':0,'D2':0,'D3':0,'D4':0,'D5':0,\n",
    "                'E1':0,'E2':0,'E3':0,'E4':0,'E5':0,}\n",
    "    for ren in prediccion:\n",
    "        elem=ren[2]\n",
    "        if elem in frec:\n",
    "            frec[elem] +=1\n",
    "\n",
    "    print(\"Probabilidad por clase: \")\n",
    "    print(neigh.predict_proba(array_X))\n",
    "    return frec\n",
    "\n",
    "spec=features[0]\n",
    "predi=predecir(spec)"
   ]
  },
  {
   "cell_type": "code",
   "execution_count": null,
   "metadata": {},
   "outputs": [],
   "source": [
    "sum=0\n",
    "for p in predi:\n",
    "    ratio = predi[p]/size\n",
    "    sum+=ratio\n",
    "    print(p,\" :\",(ratio*100))\n",
    "sum"
   ]
  }
 ],
 "metadata": {
  "colab": {
   "provenance": []
  },
  "kernelspec": {
   "display_name": "Python 3 (ipykernel)",
   "language": "python",
   "name": "python3"
  },
  "language_info": {
   "codemirror_mode": {
    "name": "ipython",
    "version": 3
   },
   "file_extension": ".py",
   "mimetype": "text/x-python",
   "name": "python",
   "nbconvert_exporter": "python",
   "pygments_lexer": "ipython3",
   "version": "3.11.5"
  }
 },
 "nbformat": 4,
 "nbformat_minor": 4
}
