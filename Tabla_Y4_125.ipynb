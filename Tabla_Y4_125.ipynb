{
 "cells": [
  {
   "cell_type": "markdown",
   "metadata": {
    "id": "x6wiQuLUx7LT"
   },
   "source": [
    "# Tabla Y4-125"
   ]
  },
  {
   "cell_type": "code",
   "execution_count": null,
   "metadata": {
    "colab": {
     "base_uri": "https://localhost:8080/"
    },
    "id": "DcmJCn7ky-rN",
    "outputId": "ba232501-40d3-4b5e-b634-24dbfc551306",
    "scrolled": true
   },
   "outputs": [],
   "source": [
    "#!pip install specdal spectrum"
   ]
  },
  {
   "cell_type": "code",
   "execution_count": null,
   "metadata": {
    "colab": {
     "base_uri": "https://localhost:8080/",
     "height": 646
    },
    "id": "2B62yvuXy7QX",
    "outputId": "2bed9ad5-6fbc-4be3-b4ed-52af1ed5e82c"
   },
   "outputs": [],
   "source": [
    "import os\n",
    "from specdal import Collection, Spectrum, read\n",
    "from matplotlib import pyplot as plt\n",
    "import pandas as pd\n",
    "\n",
    "datadir = \"./Espectros_FORS_2/Y4\"\n",
    "archivos = list()\n",
    "specs = list()\n",
    "cont=0\n",
    "aux = 0\n",
    "etiquetas = ['A1','A2','A3','A4','A5',\n",
    "             'B1','B2','B3','B4','B5',\n",
    "             'C1','C2','C3','C4','C5',\n",
    "             'D1','D2','D3','D4','D5',\n",
    "             'E1','E2','E3','E4','E5',\n",
    "            ]\n",
    "for f in os.listdir(datadir):\n",
    "    data = pd.read_csv(datadir+\"/\"+f,delimiter='\\t')\n",
    "    #print(f)\n",
    "    archivos.append(f)\n",
    "    dev_x = data['Wavelength']\n",
    "    title =str(f)[:-4]\n",
    "    dev_y = data[title]\n",
    "    plt.plot(dev_x, dev_y)\n",
    "    df = pd.DataFrame({'x': dev_x, 'y': dev_y})\n",
    "    tmp_arr = df.to_numpy()\n",
    "    specs.append(tmp_arr)\n",
    "    aux+=1\n",
    "    if aux == 5:\n",
    "        aux=0\n",
    "        plt.ylabel('Reflectance')\n",
    "        plt.xlabel('Wavelength')\n",
    "        t = \"Tabla Y4\",etiquetas[cont]\n",
    "        cont+=1\n",
    "        plt.title(t)\n",
    "        plt.show()\n",
    "\n",
    "#print(archivos)\n",
    "len(specs)\n",
    "print(cont)"
   ]
  },
  {
   "cell_type": "code",
   "execution_count": null,
   "metadata": {},
   "outputs": [],
   "source": []
  },
  {
   "cell_type": "code",
   "execution_count": null,
   "metadata": {},
   "outputs": [],
   "source": []
  }
 ],
 "metadata": {
  "colab": {
   "provenance": []
  },
  "kernelspec": {
   "display_name": "Python 3 (ipykernel)",
   "language": "python",
   "name": "python3"
  },
  "language_info": {
   "codemirror_mode": {
    "name": "ipython",
    "version": 3
   },
   "file_extension": ".py",
   "mimetype": "text/x-python",
   "name": "python",
   "nbconvert_exporter": "python",
   "pygments_lexer": "ipython3",
   "version": "3.11.4"
  }
 },
 "nbformat": 4,
 "nbformat_minor": 4
}
