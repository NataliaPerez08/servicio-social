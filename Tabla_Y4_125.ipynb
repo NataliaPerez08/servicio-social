{
 "cells": [
  {
   "cell_type": "markdown",
   "metadata": {
    "id": "x6wiQuLUx7LT"
   },
   "source": [
    "# Tabla Y4-125"
   ]
  },
  {
   "cell_type": "code",
   "execution_count": null,
   "metadata": {
    "colab": {
     "base_uri": "https://localhost:8080/"
    },
    "id": "DcmJCn7ky-rN",
    "outputId": "ba232501-40d3-4b5e-b634-24dbfc551306",
    "scrolled": true
   },
   "outputs": [],
   "source": [
    "#!pip install specdal spectrum"
   ]
  },
  {
   "cell_type": "markdown",
   "metadata": {},
   "source": [
    "Extraer datos"
   ]
  },
  {
   "cell_type": "code",
   "execution_count": 3,
   "metadata": {
    "colab": {
     "base_uri": "https://localhost:8080/",
     "height": 646
    },
    "editable": true,
    "id": "2B62yvuXy7QX",
    "outputId": "2bed9ad5-6fbc-4be3-b4ed-52af1ed5e82c",
    "slideshow": {
     "slide_type": ""
    },
    "tags": []
   },
   "outputs": [
    {
     "data": {
      "text/plain": [
       "125"
      ]
     },
     "execution_count": 3,
     "metadata": {},
     "output_type": "execute_result"
    }
   ],
   "source": [
    "import os\n",
    "from specdal import Collection, Spectrum, read\n",
    "from matplotlib import pyplot as plt\n",
    "import pandas as pd\n",
    "import numpy as np\n",
    "import sklearn\n",
    "from sklearn.model_selection import train_test_split\n",
    "from sklearn.naive_bayes import GaussianNB\n",
    "\n",
    "datadir = \"./Espectros_FORS_2/Y4\"\n",
    "archivos = list()\n",
    "specs = list()\n",
    "cont = 0\n",
    "aux = 0\n",
    "etiquetas = ['A1','A2','A3','A4','A5',\n",
    "             'B1','B2','B3','B4','B5',\n",
    "             'C1','C2','C3','C4','C5',\n",
    "             'D1','D2','D3','D4','D5',\n",
    "             'E1','E2','E3','E4','E5',\n",
    "            ]\n",
    "features = []\n",
    "for f in os.listdir(datadir):\n",
    "    data = pd.read_csv(datadir+\"/\"+f,delimiter='\\t')\n",
    "    \n",
    "    title =str(f)[:-4]\n",
    "    dev_x = data['Wavelength']\n",
    "    dev_y = data[title]\n",
    "    \n",
    "    #plt.plot(dev_x, dev_y)\n",
    "    df = pd.DataFrame({'x': dev_x, 'y': dev_y})\n",
    "    archivos.append(f)\n",
    "    tmp_arr = df.to_numpy()\n",
    "    specs.append(tmp_arr)\n",
    "\n",
    "    tmp = np.array(dev_y)\n",
    "    features.append(tmp)\n",
    "    aux+=1\n",
    "    if aux <= 125 and aux%5==0:\n",
    "        #plt.ylabel('Reflectance')\n",
    "        #plt.xlabel('Wavelength')\n",
    "        t = \"Tabla Y4\",etiquetas[cont]\n",
    "        cont+=1\n",
    "        #plt.title(t)\n",
    "        #plt.show()\n",
    "len(features)"
   ]
  },
  {
   "cell_type": "markdown",
   "metadata": {},
   "source": [
    "# Bayes ingenuo"
   ]
  },
  {
   "cell_type": "code",
   "execution_count": 4,
   "metadata": {},
   "outputs": [],
   "source": [
    "# Función auxiliar  Cuenta las diferencias entre dos listas y \n",
    "# muestra el índice donde son diferentes.\n",
    "def show_differences(list1, list2):\n",
    "  differences = {}\n",
    "  for i in range(len(list1)):\n",
    "    if list1[i] != list2[i]:\n",
    "      differences[i] = [list1[i], list2[i]]\n",
    "\n",
    "  return differences"
   ]
  },
  {
   "cell_type": "code",
   "execution_count": 5,
   "metadata": {
    "editable": true,
    "slideshow": {
     "slide_type": ""
    },
    "tags": []
   },
   "outputs": [
    {
     "name": "stdout",
     "output_type": "stream",
     "text": [
      "124\n",
      "[  0   1   2   3   4   5   6   7   8   9  10  11  12  13  14  15  16  17\n",
      "  18  19  20  21  22  23  24  25  26  27  28  29  30  31  32  33  34  35\n",
      "  36  37  38  39  40  41  42  43  44  45  46  47  48  49  50  51  52  53\n",
      "  54  55  56  57  58  59  60  61  62  63  64  65  66  67  68  69  70  71\n",
      "  21  73  74  75  76  77  78  79  80  81  82  83  84  85  86  87  88  89\n",
      "  90  91  92  93  94  95  96  97  98  99 100 101 102 103 104 105 106 107\n",
      " 108 109 110 111 112 113 114 115 116 117 118 119 120 121 122 123 124]\n",
      "{72: [21, 72]}\n"
     ]
    }
   ],
   "source": [
    "#feature_names = data['feature_names']\n",
    "feature_names = ['wavelength','reflectance']\n",
    "labels = np.arange(125)\n",
    "\n",
    "train, test, train_labels, test_labels = train_test_split(\n",
    "   features,labels,test_size = 0.00001, random_state = 22\n",
    ")\n",
    "\n",
    "GNBclf = GaussianNB()\n",
    "\n",
    "model = GNBclf.fit(train, train_labels)\n",
    "print(len(model.classes_))\n",
    "test=features\n",
    "preds = GNBclf.predict(test)\n",
    "print(preds)\n",
    "print(show_differences(preds, labels))"
   ]
  },
  {
   "cell_type": "markdown",
   "metadata": {},
   "source": [
    "# Linear regression"
   ]
  },
  {
   "cell_type": "code",
   "execution_count": 13,
   "metadata": {},
   "outputs": [
    {
     "name": "stdout",
     "output_type": "stream",
     "text": [
      "Predicción de P en 1.0942358130705543e-12  es \n",
      "Predicción de P en 0.9999999999952394  es \n",
      "Predicción de P en 2.00000000000189  es \n",
      "Predicción de P en 3.000000000009905  es \n",
      "Predicción de P en 3.999999999996504  es \n",
      "Predicción de P en 4.999999999998664  es \n",
      "Predicción de P en 5.999999999997925  es \n",
      "Predicción de P en 7.000000000000881  es \n",
      "Predicción de P en 7.999999999994856  es \n",
      "Predicción de P en 8.999999999998579  es \n",
      "Predicción de P en 10.000000000002274  es \n",
      "Predicción de P en 10.999999999997485  es \n",
      "Predicción de P en 12.000000000002842  es \n",
      "Predicción de P en 13.000000000003922  es \n",
      "Predicción de P en 13.999999999996405  es \n",
      "Predicción de P en 15.000000000005144  es \n",
      "Predicción de P en 15.999999999994259  es \n",
      "Predicción de P en 16.999999999997442  es \n",
      "Predicción de P en 17.999999999992212  es \n",
      "Predicción de P en 19.00000000000236  es \n",
      "Predicción de P en 19.99999999999922  es \n",
      "Predicción de P en 20.99999999998812  es \n",
      "Predicción de P en 21.99999999999565  es \n",
      "Predicción de P en 22.999999999998366  es \n",
      "Predicción de P en 23.999999999999034  es \n",
      "Predicción de P en 25.000000000002927  es \n",
      "Predicción de P en 25.999999999995097  es \n",
      "Predicción de P en 27.000000000000426  es \n",
      "Predicción de P en 27.999999999989647  es \n",
      "Predicción de P en 29.000000000001307  es \n",
      "Predicción de P en 29.999999999997414  es \n",
      "Predicción de P en 30.999999999998238  es \n",
      "Predicción de P en 32.0  es \n",
      "Predicción de P en 33.000000000002046  es \n",
      "Predicción de P en 33.999999999996405  es \n",
      "Predicción de P en 35.000000000000426  es \n",
      "Predicción de P en 36.00000000000644  es \n",
      "Predicción de P en 36.99999999999734  es \n",
      "Predicción de P en 37.999999999997186  es \n",
      "Predicción de P en 39.00000000000601  es \n",
      "Predicción de P en 40.00000000001033  es \n",
      "Predicción de P en 40.99999999999994  es \n",
      "Predicción de P en 41.999999999995666  es \n",
      "Predicción de P en 43.000000000006  es \n",
      "Predicción de P en 44.0000000000021  es \n",
      "Predicción de P en 44.99999999999987  es \n",
      "Predicción de P en 45.99999999999561  es \n",
      "Predicción de P en 47.0000000000032  es \n",
      "Predicción de P en 48.00000000000094  es \n",
      "Predicción de P en 49.00000000001293  es \n",
      "Predicción de P en 50.000000000001506  es \n",
      "Predicción de P en 50.99999999999977  es \n",
      "Predicción de P en 52.0000000000048  es \n",
      "Predicción de P en 52.999999999995325  es \n",
      "Predicción de P en 53.99999999999125  es \n",
      "Predicción de P en 55.00000000000104  es \n",
      "Predicción de P en 56.00000000000182  es \n",
      "Predicción de P en 56.99999999999055  es \n",
      "Predicción de P en 57.99999999999535  es \n",
      "Predicción de P en 59.00000000000621  es \n",
      "Predicción de P en 60.00000000000739  es \n",
      "Predicción de P en 60.99999999999518  es \n",
      "Predicción de P en 61.99999999999258  es \n",
      "Predicción de P en 63.000000000001634  es \n",
      "Predicción de P en 63.99999999999629  es \n",
      "Predicción de P en 65.00000000001148  es \n",
      "Predicción de P en 65.9999999999915  es \n",
      "Predicción de P en 66.99999999999793  es \n",
      "Predicción de P en 68.00000000000027  es \n",
      "Predicción de P en 68.99999999999555  es \n",
      "Predicción de P en 70.00000000001134  es \n",
      "Predicción de P en 71.00000000000483  es \n",
      "Predicción de P en -121.85436967075151  es \n",
      "Predicción de P en 73.0000000000035  es \n",
      "Predicción de P en 74.00000000000813  es \n",
      "Predicción de P en 74.99999999999417  es \n",
      "Predicción de P en 75.99999999999724  es \n",
      "Predicción de P en 77.00000000000179  es \n",
      "Predicción de P en 78.00000000000529  es \n",
      "Predicción de P en 79.00000000000097  es \n",
      "Predicción de P en 80.00000000000125  es \n",
      "Predicción de P en 80.99999999999797  es \n",
      "Predicción de P en 81.99999999999778  es \n",
      "Predicción de P en 82.9999999999955  es \n",
      "Predicción de P en 83.99999999999832  es \n",
      "Predicción de P en 84.99999999999427  es \n",
      "Predicción de P en 86.0000000000064  es \n",
      "Predicción de P en 87.0000000000017  es \n",
      "Predicción de P en 87.99999999999338  es \n",
      "Predicción de P en 89.00000000000672  es \n",
      "Predicción de P en 89.99999999999488  es \n",
      "Predicción de P en 90.99999999999979  es \n",
      "Predicción de P en 91.99999999999774  es \n",
      "Predicción de P en 92.999999999994  es \n",
      "Predicción de P en 93.99999999999336  es \n",
      "Predicción de P en 95.00000000000672  es \n",
      "Predicción de P en 96.00000000000352  es \n",
      "Predicción de P en 97.00000000001039  es \n",
      "Predicción de P en 98.00000000000708  es \n",
      "Predicción de P en 99.0000000000015  es \n",
      "Predicción de P en 100.00000000000145  es \n",
      "Predicción de P en 101.00000000000202  es \n",
      "Predicción de P en 101.99999999999983  es \n",
      "Predicción de P en 102.99999999999571  es \n",
      "Predicción de P en 103.99999999999955  es \n",
      "Predicción de P en 104.99999999999721  es \n",
      "Predicción de P en 105.99999999999883  es \n",
      "Predicción de P en 107.00000000000536  es \n",
      "Predicción de P en 107.99999999999764  es \n",
      "Predicción de P en 108.99999999999538  es \n",
      "Predicción de P en 110.00000000000882  es \n",
      "Predicción de P en 110.99999999999835  es \n",
      "Predicción de P en 112.00000000000095  es \n",
      "Predicción de P en 112.99999999999525  es \n",
      "Predicción de P en 113.9999999999971  es \n",
      "Predicción de P en 115.0000000000003  es \n",
      "Predicción de P en 115.99999999999666  es \n",
      "Predicción de P en 117.00000000001324  es \n",
      "Predicción de P en 117.99999999999628  es \n",
      "Predicción de P en 119.00000000000212  es \n",
      "Predicción de P en 120.00000000000188  es \n",
      "Predicción de P en 121.00000000000254  es \n",
      "Predicción de P en 122.00000000000432  es \n",
      "Predicción de P en 122.99999999999909  es \n",
      "Predicción de P en 123.99999999999609  es \n"
     ]
    }
   ],
   "source": [
    "from sklearn.linear_model import LinearRegression\n",
    "reg = LinearRegression().fit(train, train_labels)\n",
    "reg.score(train, train_labels)\n",
    "pb = reg.predict(test)\n",
    "len(pb)\n",
    "for i in range(len(pb)):\n",
    "    print(\"Predicción de P en\",i,\" es \")#,str(pb[i]))"
   ]
  },
  {
   "cell_type": "markdown",
   "metadata": {},
   "source": [
    "# Logistic Regression"
   ]
  },
  {
   "cell_type": "code",
   "execution_count": null,
   "metadata": {},
   "outputs": [],
   "source": [
    "from sklearn.linear_model import LogisticRegression\n",
    "from sklearn.pipeline import make_pipeline\n",
    "from sklearn.preprocessing import StandardScaler\n",
    "\n",
    "clf = LogisticRegression(penalty='l2',solver='lbfgs', max_iter=400)\n",
    "#make_pipeline(StandardScaler(), LogisticRegression())\n",
    "clf.fit(train, train_labels)\n",
    "clf.score(train, train_labels)\n",
    "clf.predict_proba(np.array([data_blanco,data_amarillo,data_rojo,data_azul,data_verde]))\n",
    "clf.predict(np.array([data_blanco,data_amarillo,data_rojo,data_azul,data_verde]))\n"
   ]
  }
 ],
 "metadata": {
  "colab": {
   "provenance": []
  },
  "kernelspec": {
   "display_name": "Python 3 (ipykernel)",
   "language": "python",
   "name": "python3"
  },
  "language_info": {
   "codemirror_mode": {
    "name": "ipython",
    "version": 3
   },
   "file_extension": ".py",
   "mimetype": "text/x-python",
   "name": "python",
   "nbconvert_exporter": "python",
   "pygments_lexer": "ipython3",
   "version": "3.11.2"
  }
 },
 "nbformat": 4,
 "nbformat_minor": 4
}
