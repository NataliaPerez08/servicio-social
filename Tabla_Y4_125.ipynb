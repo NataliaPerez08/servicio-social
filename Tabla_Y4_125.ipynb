{
 "cells": [
  {
   "cell_type": "markdown",
   "metadata": {
    "id": "x6wiQuLUx7LT"
   },
   "source": [
    "# Tabla Y4-125"
   ]
  },
  {
   "cell_type": "code",
   "execution_count": null,
   "metadata": {
    "colab": {
     "base_uri": "https://localhost:8080/"
    },
    "id": "DcmJCn7ky-rN",
    "outputId": "ba232501-40d3-4b5e-b634-24dbfc551306",
    "scrolled": true
   },
   "outputs": [],
   "source": [
    "#!pip install specdal spectrum"
   ]
  },
  {
   "cell_type": "markdown",
   "metadata": {},
   "source": [
    "Extraer datos"
   ]
  },
  {
   "cell_type": "raw",
   "metadata": {},
   "source": []
  },
  {
   "cell_type": "code",
   "execution_count": null,
   "metadata": {},
   "outputs": [],
   "source": []
  },
  {
   "cell_type": "code",
   "execution_count": 37,
   "metadata": {
    "colab": {
     "base_uri": "https://localhost:8080/",
     "height": 646
    },
    "editable": true,
    "id": "2B62yvuXy7QX",
    "outputId": "2bed9ad5-6fbc-4be3-b4ed-52af1ed5e82c",
    "slideshow": {
     "slide_type": ""
    },
    "tags": []
   },
   "outputs": [
    {
     "data": {
      "text/plain": [
       "125"
      ]
     },
     "execution_count": 37,
     "metadata": {},
     "output_type": "execute_result"
    }
   ],
   "source": [
    "import os\n",
    "from specdal import Collection, Spectrum, read\n",
    "from matplotlib import pyplot as plt\n",
    "import pandas as pd\n",
    "import numpy as np\n",
    "import sklearn\n",
    "from sklearn.model_selection import train_test_split\n",
    "from sklearn.naive_bayes import GaussianNB\n",
    "\n",
    "datadir = \"./Espectros_FORS_2/Y4\"\n",
    "archivos = list()\n",
    "specs = list()\n",
    "cont = 0\n",
    "aux = 0\n",
    "etiquetas = ['A1','A2','A3','A4','A5',\n",
    "             'B1','B2','B3','B4','B5',\n",
    "             'C1','C2','C3','C4','C5',\n",
    "             'D1','D2','D3','D4','D5',\n",
    "             'E1','E2','E3','E4','E5',\n",
    "            ]\n",
    "features = []\n",
    "for f in os.listdir(datadir):\n",
    "    data = pd.read_csv(datadir+\"/\"+f,delimiter='\\t')\n",
    "    \n",
    "    title =str(f)[:-4]\n",
    "    dev_x = data['Wavelength']\n",
    "    dev_y = data[title]\n",
    "    \n",
    "    #plt.plot(dev_x, dev_y)\n",
    "    df = pd.DataFrame({'x': dev_x, 'y': dev_y})\n",
    "    archivos.append(f)\n",
    "    tmp_arr = df.to_numpy()\n",
    "    specs.append(tmp_arr)\n",
    "\n",
    "    tmp = np.array(dev_y)\n",
    "    features.append(tmp)\n",
    "    aux+=1\n",
    "    if aux <= 125 and aux%5==0:\n",
    "        #plt.ylabel('Reflectance')\n",
    "        #plt.xlabel('Wavelength')\n",
    "        t = \"Tabla Y4\",etiquetas[cont]\n",
    "        cont+=1\n",
    "        #plt.title(t)\n",
    "        #plt.show()\n",
    "len(features)"
   ]
  },
  {
   "cell_type": "markdown",
   "metadata": {},
   "source": [
    "# Bayes ingenuo"
   ]
  },
  {
   "cell_type": "code",
   "execution_count": 66,
   "metadata": {},
   "outputs": [],
   "source": [
    "# Función auxiliar  Cuenta las diferencias entre dos listas y \n",
    "# muestra el índice donde son diferentes.\n",
    "def show_differences(list1, list2):\n",
    "  differences = {}\n",
    "  for i in range(len(list1)):\n",
    "    if list1[i] != list2[i]:\n",
    "      differences[i] = [list1[i], list2[i]]\n",
    "\n",
    "  return differences"
   ]
  },
  {
   "cell_type": "code",
   "execution_count": 67,
   "metadata": {
    "editable": true,
    "slideshow": {
     "slide_type": ""
    },
    "tags": []
   },
   "outputs": [
    {
     "name": "stdout",
     "output_type": "stream",
     "text": [
      "124\n",
      "[  0   1   2   3   4   5   6   7   8   9  10  11  12  13  14  15  16  17\n",
      "  18  19  20  21  22  23  24  25  26  27  28  29  30  31  32  33  34  35\n",
      "  36  37  38  39  40  41  42  43  44  45  46  47  48  49  50  51  52  53\n",
      "  54  55  56  57  58  59  60  61  62  63  64  65  66  67  68  69  70  71\n",
      "  70  73  74  75  76  77  78  79  80  81  82  83  84  85  86  87  88  89\n",
      "  90  91  92  93  94  95  96  97  98  99 100 101 102 103 104 105 106 107\n",
      " 108 109 110 111 112 113 114 115 116 117 118 119 120 121 122 123 124]\n",
      "{72: [70, 72]}\n"
     ]
    }
   ],
   "source": [
    "#feature_names = data['feature_names']\n",
    "feature_names = ['wavelength','reflectance']\n",
    "labels = np.arange(125)\n",
    "\n",
    "train, test, train_labels, test_labels = train_test_split(\n",
    "   features,labels,test_size = 0.00001, random_state = 22\n",
    ")\n",
    "\n",
    "GNBclf = GaussianNB()\n",
    "\n",
    "model = GNBclf.fit(train, train_labels)\n",
    "print(len(model.classes_))\n",
    "test=features\n",
    "preds = GNBclf.predict(test)\n",
    "print(preds)\n",
    "print(show_differences(preds, labels))"
   ]
  },
  {
   "cell_type": "code",
   "execution_count": null,
   "metadata": {},
   "outputs": [],
   "source": []
  }
 ],
 "metadata": {
  "colab": {
   "provenance": []
  },
  "kernelspec": {
   "display_name": "Python 3 (ipykernel)",
   "language": "python",
   "name": "python3"
  },
  "language_info": {
   "codemirror_mode": {
    "name": "ipython",
    "version": 3
   },
   "file_extension": ".py",
   "mimetype": "text/x-python",
   "name": "python",
   "nbconvert_exporter": "python",
   "pygments_lexer": "ipython3",
   "version": "3.11.4"
  }
 },
 "nbformat": 4,
 "nbformat_minor": 4
}
