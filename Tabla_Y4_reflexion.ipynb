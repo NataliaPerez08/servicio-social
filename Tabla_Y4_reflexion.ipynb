{
 "cells": [
  {
   "cell_type": "markdown",
   "metadata": {
    "id": "x6wiQuLUx7LT"
   },
   "source": [
    "# Tabla Y4-125"
   ]
  },
  {
   "cell_type": "markdown",
   "metadata": {},
   "source": [
    "# Probar con datos desconocidos"
   ]
  },
  {
   "cell_type": "code",
   "execution_count": null,
   "metadata": {},
   "outputs": [],
   "source": [
    "datadir = \"./Espectros_FORS_2/C\"\n",
    "archivos = list()\n",
    "etiquetas = ['A1','A2','A3','A4','A5',\n",
    "             'B1','B2','B3','B4','B5',\n",
    "             'C1','C2','C3','C4','C5',\n",
    "             'D1','D2','D3','D4','D5',\n",
    "             'E1','E2','E3','E4','E5',\n",
    "            ]\n",
    "\n",
    "for f in os.listdir(datadir):\n",
    "    title =str(f)[8:-8]\n",
    "    archivos.append(f)\n",
    "archivos.sort()"
   ]
  }
 ],
 "metadata": {
  "colab": {
   "provenance": []
  },
  "kernelspec": {
   "display_name": "Python 3 (ipykernel)",
   "language": "python",
   "name": "python3"
  },
  "language_info": {
   "codemirror_mode": {
    "name": "ipython",
    "version": 3
   },
   "file_extension": ".py",
   "mimetype": "text/x-python",
   "name": "python",
   "nbconvert_exporter": "python",
   "pygments_lexer": "ipython3",
   "version": "3.11.5"
  }
 },
 "nbformat": 4,
 "nbformat_minor": 4
}
