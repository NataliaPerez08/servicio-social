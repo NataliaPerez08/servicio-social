{
 "cells": [
  {
   "cell_type": "markdown",
   "metadata": {
    "id": "x6wiQuLUx7LT"
   },
   "source": [
    "# Tabla Y4-125"
   ]
  },
  {
   "cell_type": "markdown",
   "metadata": {},
   "source": [
    "Extraer datos"
   ]
  },
  {
   "cell_type": "code",
   "execution_count": 2,
   "metadata": {
    "colab": {
     "base_uri": "https://localhost:8080/",
     "height": 646
    },
    "editable": true,
    "id": "2B62yvuXy7QX",
    "outputId": "2bed9ad5-6fbc-4be3-b4ed-52af1ed5e82c",
    "slideshow": {
     "slide_type": ""
    },
    "tags": []
   },
   "outputs": [],
   "source": [
    "import os\n",
    "#from specdal import Collection, Spectrum, read\n",
    "from matplotlib import pyplot as plt\n",
    "import pandas as pd\n",
    "import numpy as np\n",
    "import sklearn\n",
    "from sklearn.model_selection import train_test_split\n",
    "from sklearn.naive_bayes import GaussianNB\n",
    "\n",
    "datadir = \"./Espectros_FORS_2/Y4\"\n",
    "archivos = list()\n",
    "etiquetas = ['A1','A2','A3','A4','A5',\n",
    "             'B1','B2','B3','B4','B5',\n",
    "             'C1','C2','C3','C4','C5',\n",
    "             'D1','D2','D3','D4','D5',\n",
    "             'E1','E2','E3','E4','E5',\n",
    "            ]\n",
    "\n",
    "for f in os.listdir(datadir):\n",
    "    title =str(f)[8:-8]\n",
    "    archivos.append(f)\n",
    "archivos.sort()"
   ]
  },
  {
   "cell_type": "code",
   "execution_count": 3,
   "metadata": {},
   "outputs": [],
   "source": [
    "specs = list()\n",
    "specs_df = list()\n",
    "features = []\n",
    "\n",
    "def dar_intervalo(inicio,fin):\n",
    "    return [inicio-350,fin-350]\n",
    "interval=dar_intervalo(500,600)\n",
    "\n",
    "ini=interval[0]\n",
    "fin=interval[1]"
   ]
  },
  {
   "cell_type": "code",
   "execution_count": 4,
   "metadata": {},
   "outputs": [
    {
     "name": "stdout",
     "output_type": "stream",
     "text": [
      "125\n",
      "125\n"
     ]
    },
    {
     "data": {
      "text/plain": [
       "125"
      ]
     },
     "execution_count": 4,
     "metadata": {},
     "output_type": "execute_result"
    }
   ],
   "source": [
    "for f in archivos:\n",
    "    data = pd.read_csv(datadir+\"/\"+f,delimiter='\\t')\n",
    "    title =str(f)[:-4]\n",
    "    dev_x = data['Wavelength'][ini:fin]\n",
    "    dev_y = data[title][ini:fin]\n",
    "    df = pd.DataFrame({'x': dev_x, 'y': dev_y})\n",
    "    specs_df.append(df)\n",
    "    tmp_arr = df.to_numpy()\n",
    "    specs.append(tmp_arr)\n",
    "\n",
    "    tmp = np.array(dev_y)\n",
    "    features.append(tmp)\n",
    "print(len(specs))\n",
    "print(len(specs_df))\n",
    "len(features)"
   ]
  },
  {
   "cell_type": "code",
   "execution_count": 5,
   "metadata": {},
   "outputs": [
    {
     "name": "stdout",
     "output_type": "stream",
     "text": [
      "125\n",
      "125\n"
     ]
    }
   ],
   "source": [
    "#feature_names = data['feature_names']\n",
    "feature_names = ['wavelength','reflectance']\n",
    "\n",
    "#labels = np.concatenate((lista, lista))\n",
    "#features=np.concatenate((features, features))\n",
    "indexes = dev_x\n",
    "labels = [i for i in range(25) for _ in range(5)]\n",
    "print(len(labels))\n",
    "print(len(features))"
   ]
  },
  {
   "cell_type": "markdown",
   "metadata": {},
   "source": [
    "# Bayes ingenuo"
   ]
  },
  {
   "cell_type": "code",
   "execution_count": 6,
   "metadata": {
    "editable": true,
    "slideshow": {
     "slide_type": ""
    },
    "tags": []
   },
   "outputs": [
    {
     "name": "stdout",
     "output_type": "stream",
     "text": [
      "25\n",
      "[ 0  0  0  0  0  1  1  1  1  1  2  2  2  2  2  3  3  3  3  3  4  4  4  4\n",
      "  4  5  5  5  5  5  6  6  6  6 13  7  7  7  7  7  8  8  8  8  8  9 23  9\n",
      "  9 23 10 10 10 10 10 11 11 11 11 11 12 12 12 12 12 13 13  9 13 13 14 14\n",
      " 14 14 14 15 15 15 15 15 16 16 16 16 16 17 17 17 17 17 18 18 18 18 18 19\n",
      " 19 19 19 19 20 20 20 20 20 21 21 21 21 21 22 22 22 22 22 23 23 23  9  9\n",
      " 24 24 24 19 24]\n",
      "0.944\n"
     ]
    }
   ],
   "source": [
    "train, test, train_labels, test_labels = train_test_split(\n",
    "   features,labels,test_size = 1, random_state = 22\n",
    ")\n",
    "\n",
    "#print(train)\n",
    "#print(test)\n",
    "#print(train_labels)\n",
    "#print(test_labels)\n",
    "\n",
    "\n",
    "GNBclf = GaussianNB()\n",
    "\n",
    "model = GNBclf.fit(train, train_labels)\n",
    "print(len(model.classes_))\n",
    "test=features[:125]\n",
    "preds = GNBclf.predict(test)\n",
    "print(preds)\n",
    "print(GNBclf.score(test,labels))"
   ]
  },
  {
   "cell_type": "code",
   "execution_count": 7,
   "metadata": {},
   "outputs": [
    {
     "data": {
      "text/plain": [
       "0.944"
      ]
     },
     "execution_count": 7,
     "metadata": {},
     "output_type": "execute_result"
    }
   ],
   "source": [
    "from sklearn.metrics import accuracy_score\n",
    "accuracy_score(preds, labels)"
   ]
  },
  {
   "cell_type": "markdown",
   "metadata": {},
   "source": [
    "# Linear regression"
   ]
  },
  {
   "cell_type": "code",
   "execution_count": 8,
   "metadata": {},
   "outputs": [
    {
     "name": "stdout",
     "output_type": "stream",
     "text": [
      "0.9614603489122188\n",
      "Predicción en 0  es  0.24\n",
      "Predicción en 1  es  0.49\n",
      "Predicción en 2  es  -3.05\n",
      "Predicción en 3  es  2.96\n",
      "Predicción en 4  es  -3.33\n",
      "Predicción en 5  es  3.48\n",
      "Predicción en 6  es  0.63\n",
      "Predicción en 7  es  1.0\n",
      "Predicción en 8  es  1.03\n",
      "Predicción en 9  es  -0.46\n",
      "Predicción en 10  es  -0.19\n",
      "Predicción en 11  es  2.06\n",
      "Predicción en 12  es  1.59\n",
      "Predicción en 13  es  2.2\n",
      "Predicción en 14  es  3.27\n",
      "Predicción en 15  es  2.77\n",
      "Predicción en 16  es  3.84\n",
      "Predicción en 17  es  2.28\n",
      "Predicción en 18  es  2.99\n",
      "Predicción en 19  es  4.66\n",
      "Predicción en 20  es  5.81\n",
      "Predicción en 21  es  3.1\n",
      "Predicción en 22  es  2.02\n",
      "Predicción en 23  es  3.5\n",
      "Predicción en 24  es  7.48\n",
      "Predicción en 25  es  5.43\n",
      "Predicción en 26  es  5.44\n",
      "Predicción en 27  es  6.99\n",
      "Predicción en 28  es  4.47\n",
      "Predicción en 29  es  5.9\n",
      "Predicción en 30  es  7.13\n",
      "Predicción en 31  es  8.18\n",
      "Predicción en 32  es  8.21\n",
      "Predicción en 33  es  9.12\n",
      "Predicción en 34  es  7.58\n",
      "Predicción en 35  es  8.21\n",
      "Predicción en 36  es  8.49\n",
      "Predicción en 37  es  5.75\n",
      "Predicción en 38  es  5.93\n",
      "Predicción en 39  es  7.79\n",
      "Predicción en 40  es  7.28\n",
      "Predicción en 41  es  8.17\n",
      "Predicción en 42  es  9.8\n",
      "Predicción en 43  es  8.7\n",
      "Predicción en 44  es  6.87\n",
      "Predicción en 45  es  12.41\n",
      "Predicción en 46  es  10.21\n",
      "Predicción en 47  es  9.29\n",
      "Predicción en 48  es  8.23\n",
      "Predicción en 49  es  10.09\n",
      "Predicción en 50  es  11.43\n",
      "Predicción en 51  es  9.86\n",
      "Predicción en 52  es  9.71\n",
      "Predicción en 53  es  7.94\n",
      "Predicción en 54  es  11.02\n",
      "Predicción en 55  es  10.24\n",
      "Predicción en 56  es  13.0\n",
      "Predicción en 57  es  10.19\n",
      "Predicción en 58  es  10.29\n",
      "Predicción en 59  es  9.2\n",
      "Predicción en 60  es  14.12\n",
      "Predicción en 61  es  12.79\n",
      "Predicción en 62  es  10.41\n",
      "Predicción en 63  es  10.27\n",
      "Predicción en 64  es  12.5\n",
      "Predicción en 65  es  12.36\n",
      "Predicción en 66  es  11.29\n",
      "Predicción en 67  es  13.5\n",
      "Predicción en 68  es  12.19\n",
      "Predicción en 69  es  13.61\n",
      "Predicción en 70  es  11.59\n",
      "Predicción en 71  es  13.67\n",
      "Predicción en 72  es  19.13\n",
      "Predicción en 73  es  11.86\n",
      "Predicción en 74  es  16.88\n",
      "Predicción en 75  es  15.01\n",
      "Predicción en 76  es  13.15\n",
      "Predicción en 77  es  13.79\n",
      "Predicción en 78  es  16.51\n",
      "Predicción en 79  es  15.55\n",
      "Predicción en 80  es  15.82\n",
      "Predicción en 81  es  14.53\n",
      "Predicción en 82  es  15.38\n",
      "Predicción en 83  es  16.13\n",
      "Predicción en 84  es  17.06\n",
      "Predicción en 85  es  16.35\n",
      "Predicción en 86  es  17.34\n",
      "Predicción en 87  es  19.18\n",
      "Predicción en 88  es  17.01\n",
      "Predicción en 89  es  16.2\n",
      "Predicción en 90  es  19.17\n",
      "Predicción en 91  es  17.49\n",
      "Predicción en 92  es  18.42\n",
      "Predicción en 93  es  17.67\n",
      "Predicción en 94  es  17.77\n",
      "Predicción en 95  es  17.92\n",
      "Predicción en 96  es  16.55\n",
      "Predicción en 97  es  18.98\n",
      "Predicción en 98  es  19.49\n",
      "Predicción en 99  es  21.4\n",
      "Predicción en 100  es  21.6\n",
      "Predicción en 101  es  19.78\n",
      "Predicción en 102  es  20.18\n",
      "Predicción en 103  es  17.79\n",
      "Predicción en 104  es  17.67\n",
      "Predicción en 105  es  19.4\n",
      "Predicción en 106  es  21.02\n",
      "Predicción en 107  es  21.5\n",
      "Predicción en 108  es  20.11\n",
      "Predicción en 109  es  20.25\n",
      "Predicción en 110  es  21.74\n",
      "Predicción en 111  es  21.45\n",
      "Predicción en 112  es  22.06\n",
      "Predicción en 113  es  21.57\n",
      "Predicción en 114  es  21.98\n",
      "Predicción en 115  es  23.85\n",
      "Predicción en 116  es  22.46\n",
      "Predicción en 117  es  20.83\n",
      "Predicción en 118  es  21.83\n",
      "Predicción en 119  es  23.44\n",
      "Predicción en 120  es  22.09\n",
      "Predicción en 121  es  23.9\n",
      "Predicción en 122  es  25.82\n",
      "Predicción en 123  es  22.93\n",
      "Predicción en 124  es  20.95\n"
     ]
    }
   ],
   "source": [
    "from sklearn.linear_model import LinearRegression\n",
    "reg = LinearRegression().fit(train, train_labels)\n",
    "pb = reg.predict(test)\n",
    "print(reg.score(train, train_labels))\n",
    "\n",
    "len(pb)\n",
    "for i in range(len(pb)):\n",
    "    print(\"Predicción en\",i,\" es \",round(pb[i],2))"
   ]
  },
  {
   "cell_type": "markdown",
   "metadata": {},
   "source": [
    "# Logistic Regression"
   ]
  },
  {
   "cell_type": "code",
   "execution_count": 10,
   "metadata": {},
   "outputs": [
    {
     "name": "stdout",
     "output_type": "stream",
     "text": [
      "0.45161290322580644\n",
      "[[0.0806953  0.04497302 0.01323616 ... 0.03765719 0.02377264 0.02800056]\n",
      " [0.07974637 0.04190547 0.01181758 ... 0.03844259 0.02499869 0.02912443]\n",
      " [0.08131458 0.04450456 0.01307234 ... 0.03756243 0.0237644  0.02795964]\n",
      " ...\n",
      " [0.02883231 0.00983711 0.00115172 ... 0.04878039 0.05595248 0.05373038]\n",
      " [0.02800786 0.00909479 0.00102804 ... 0.0486101  0.05712891 0.05436614]\n",
      " [0.02878416 0.00976909 0.00114028 ... 0.04876657 0.05605628 0.05378482]]\n",
      "[ 0  0  0  0  0  2  1  1  1  1  2  2  2  2  2  3 12  3  3  3  4  1  4  1\n",
      "  1  5  7  5  5  5 23 23 23 23 23 10  0  0  0  0 15  8 11 11 11 23 23 23\n",
      " 23 23 10 10 10 10 10 15 15 11 15 11 12 12 12 12 12 23 23 23 23 23 23 23\n",
      " 23 23 23 15 15  9 15 15 23 23 23 23 23 23 23 23 16 16 18 18 18 18 18 23\n",
      " 23 23 23 23 23 16 18 17 17 21 21 21 21 21 16 23 17 17 17 23 23 23 23 23\n",
      " 23 23 23 23 23]\n"
     ]
    }
   ],
   "source": [
    "from sklearn.linear_model import LogisticRegression\n",
    "from sklearn.pipeline import make_pipeline\n",
    "from sklearn.preprocessing import StandardScaler\n",
    "\n",
    "clf = LogisticRegression(penalty='l2',solver='lbfgs', max_iter=4000)\n",
    "#make_pipeline(StandardScaler(), LogisticRegression())\n",
    "clf.fit(train, train_labels)\n",
    "print(clf.score(train, train_labels))\n",
    "print(clf.predict_proba(test))\n",
    "print(clf.predict(test))"
   ]
  },
  {
   "cell_type": "markdown",
   "metadata": {},
   "source": [
    "# Perceptron"
   ]
  },
  {
   "cell_type": "code",
   "execution_count": 11,
   "metadata": {},
   "outputs": [
    {
     "name": "stdout",
     "output_type": "stream",
     "text": [
      "0.13709677419354838\n"
     ]
    }
   ],
   "source": [
    "from sklearn.datasets import load_digits\n",
    "from sklearn.linear_model import Perceptron\n",
    "clf = Perceptron(tol=1e-3, random_state=0)\n",
    "clf.fit(train, train_labels)\n",
    "Perceptron()\n",
    "preds=clf.predict(train)\n",
    "print(clf.score(train, train_labels))\n"
   ]
  },
  {
   "cell_type": "markdown",
   "metadata": {},
   "source": [
    "# K-Nearest Neighbours\n"
   ]
  },
  {
   "cell_type": "code",
   "execution_count": null,
   "metadata": {},
   "outputs": [],
   "source": [
    "size=len(indexes)\n",
    "nlabels= list()\n",
    "for e in etiquetas:\n",
    "    er = [e for _ in range(5)]\n",
    "    nlabels+=er"
   ]
  },
  {
   "cell_type": "code",
   "execution_count": null,
   "metadata": {},
   "outputs": [],
   "source": [
    "i=0\n",
    "# Concatenate Target values\n",
    "for _ in range(125):\n",
    "    tmp_class = [nlabels[i] for _ in range(size)]\n",
    "    array_tmp = np.stack([indexes,features[i],tmp_class], axis=1)\n",
    "    if i==0:\n",
    "        y = np.array(array_tmp)\n",
    "    else:\n",
    "        y = np.concatenate((y,array_tmp))\n",
    "    i+=1\n",
    "np.array(y).shape\n",
    "y"
   ]
  },
  {
   "cell_type": "code",
   "execution_count": null,
   "metadata": {},
   "outputs": [],
   "source": [
    "# X Training data\n",
    "for i in range(125):\n",
    "    t = [2 for _ in range(size)]\n",
    "    array_tmp = np.stack([features[i],t], axis=1)\n",
    "    if i==0:\n",
    "        X = np.array(array_tmp)\n",
    "    else:\n",
    "        X = np.concatenate((X,array_tmp))\n",
    "np.array(X).shape\n",
    "X"
   ]
  },
  {
   "cell_type": "code",
   "execution_count": null,
   "metadata": {},
   "outputs": [],
   "source": [
    "from sklearn.neighbors import KNeighborsClassifier\n",
    "classes = nlabels\n",
    "neigh = KNeighborsClassifier()\n",
    "neigh.classes_ = classes\n",
    "neigh.n_features_in_=2\n",
    "neigh.n_jobs=3\n",
    "\n",
    "neigh.fit(X,y)"
   ]
  },
  {
   "cell_type": "code",
   "execution_count": null,
   "metadata": {},
   "outputs": [],
   "source": [
    "def predecir(spec):\n",
    "    t = [2 for _ in range(size)]\n",
    "    array_X = np.stack([spec,t], axis=1)\n",
    "    #array_X = i\n",
    "    prediccion=neigh.predict(array_X)\n",
    "    print(\"Prediccion=\")\n",
    "    print(prediccion)\n",
    "    frec = {'A1':0,'A2':0,'A3':0,'A4':0,'A5':0,\n",
    "                'B1':0,'B2':0,'B3':0,'B4':0,'B5':0,\n",
    "                'C1':0,'C2':0,'C3':0,'C4':0,'C5':0,\n",
    "                'D1':0,'D2':0,'D3':0,'D4':0,'D5':0,\n",
    "                'E1':0,'E2':0,'E3':0,'E4':0,'E5':0,}\n",
    "    for ren in prediccion:\n",
    "        elem=ren[2]\n",
    "        if elem in frec:\n",
    "            frec[elem] +=1\n",
    "\n",
    "    print(\"Probabilidad por clase: \")\n",
    "    print(neigh.predict_proba(array_X))\n",
    "    return frec\n",
    "\n",
    "spec=features[0]\n",
    "predi=predecir(spec)"
   ]
  },
  {
   "cell_type": "code",
   "execution_count": null,
   "metadata": {},
   "outputs": [],
   "source": [
    "sum=0\n",
    "for p in predi:\n",
    "    ratio = predi[p]/size\n",
    "    sum+=ratio\n",
    "    print(p,\" :\",(ratio*100))\n",
    "sum"
   ]
  },
  {
   "cell_type": "markdown",
   "metadata": {},
   "source": [
    "# Probar con datos desconocidos"
   ]
  }
 ],
 "metadata": {
  "colab": {
   "provenance": []
  },
  "kernelspec": {
   "display_name": "Python 3 (ipykernel)",
   "language": "python",
   "name": "python3"
  },
  "language_info": {
   "codemirror_mode": {
    "name": "ipython",
    "version": 3
   },
   "file_extension": ".py",
   "mimetype": "text/x-python",
   "name": "python",
   "nbconvert_exporter": "python",
   "pygments_lexer": "ipython3",
   "version": "3.11.5"
  }
 },
 "nbformat": 4,
 "nbformat_minor": 4
}
