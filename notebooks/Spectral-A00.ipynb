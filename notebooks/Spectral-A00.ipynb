{
 "cells": [
  {
   "cell_type": "code",
   "execution_count": 2,
   "metadata": {
    "colab": {
     "base_uri": "https://localhost:8080/"
    },
    "executionInfo": {
     "elapsed": 12359,
     "status": "ok",
     "timestamp": 1696356980755,
     "user": {
      "displayName": "Natalia Abigail Pérez Romero",
      "userId": "02764911894153294828"
     },
     "user_tz": 360
    },
    "id": "GDhExolHHwYp",
    "outputId": "a2aecca7-60f4-4f9d-8c4b-6db4cf8750c6"
   },
   "outputs": [],
   "source": [
    "#print(\"Instalar librerias necesarias\")\n",
    "#!pip install spectral specdal"
   ]
  },
  {
   "cell_type": "markdown",
   "metadata": {
    "id": "IryL04Uh9XUk"
   },
   "source": [
    "# Espectros\n",
    "Los que tienen nombre spectrum son los espectros de la tabla con el pigmento. Los que comienzan con A00 son de las cerámicas y estándares. Los que tienen extensión asd, son los que da el sistema, los que tienen extensión .txt son los ya procesados y los hr.txt son los procesados que ya se les ajustó la curva. Finalmente los espectros 12,13,14, 15 y 130 son cerámicas. Y los otros son los estándares 131-blanco, 132-Amarillo, 133-Rojo, 134-Azul y 135-Verde."
   ]
  },
  {
   "cell_type": "markdown",
   "metadata": {
    "id": "Lo3Ib63TgQrV"
   },
   "source": [
    "# Spectral Algorithms\n",
    "\n",
    "Spectral Angle Mapper (SAM) is a physically-based spectral classification that uses an n-D angle to match pixels to reference spectra. The algorithm determines the spectral similarity between two spectra by calculating the angle between the spectra and treating them as vectors in a space with dimensionality equal to the number of bands. This technique, when used on calibrated reflectance data, is relatively insensitive to illumination and albedo effects. Endmember spectra can be directly extracted directly from an image as region of interest (ROI) mean spectra. SAM compares the angle between the endmember spectrum vector and each pixel vector in n-D space. Smaller angles represent closer matches to the reference spectrum. Pixels further away than the specified maximum angle threshold in radians are not classified.\n",
    "\n",
    "SAM classification assumes reflectance data. However, if you use radiance data, the error is generally not significant because the origin is still near zero.\n",
    "\n",
    "Reference: Kruse, F. A., A. B. Lefkoff, J. B. Boardman, K. B. Heidebrecht, A. T. Shapiro, P. J. Barloon, and A. F. H. Goetz. \"The Spectral Image Processing System (SIPS) - Interactive Visualization and Analysis of Imaging spectrometer Data.\" Remote Sensing of Environment 44 (1993): 145-163.\n",
    "\n",
    "\n",
    "SpecDAL Reference\n",
    "\n",
    "https://specdal.readthedocs.io/en/latest/\n",
    "\n",
    "https://specdal.readthedocs.io/en/latest/api.html\n",
    "\n",
    "https://pyspectrum.readthedocs.io/en/latest/ref_others.html?highlight=derivative"
   ]
  },
  {
   "cell_type": "code",
   "execution_count": 3,
   "metadata": {
    "colab": {
     "base_uri": "https://localhost:8080/",
     "height": 466
    },
    "executionInfo": {
     "elapsed": 3011,
     "status": "ok",
     "timestamp": 1696356983758,
     "user": {
      "displayName": "Natalia Abigail Pérez Romero",
      "userId": "02764911894153294828"
     },
     "user_tz": 360
    },
    "id": "Yd8Q_1uWgMM1",
    "outputId": "a3d7ecca-a207-460f-9531-e56ccf9cd92c"
   },
   "outputs": [
    {
     "ename": "FileNotFoundError",
     "evalue": "[Errno 2] No such file or directory: 'c:\\\\Users\\\\nataa\\\\Documents\\\\servicio-social\\\\notebooks\\\\Espectros FORS\\\\A00012.asd'",
     "output_type": "error",
     "traceback": [
      "\u001b[1;31m---------------------------------------------------------------------------\u001b[0m",
      "\u001b[1;31mFileNotFoundError\u001b[0m                         Traceback (most recent call last)",
      "Cell \u001b[1;32mIn[3], line 5\u001b[0m\n\u001b[0;32m      2\u001b[0m \u001b[38;5;66;03m# Pigmento\u001b[39;00m\n\u001b[0;32m      3\u001b[0m a00012 \u001b[38;5;241m=\u001b[39m \u001b[38;5;124m'\u001b[39m\u001b[38;5;124mEspectros FORS/A00012.asd\u001b[39m\u001b[38;5;124m'\u001b[39m\n\u001b[1;32m----> 5\u001b[0m s \u001b[38;5;241m=\u001b[39m \u001b[43mspecdal\u001b[49m\u001b[38;5;241;43m.\u001b[39;49m\u001b[43mSpectrum\u001b[49m\u001b[43m(\u001b[49m\u001b[43mfilepath\u001b[49m\u001b[38;5;241;43m=\u001b[39;49m\u001b[43ma00012\u001b[49m\u001b[43m)\u001b[49m\n\u001b[0;32m      6\u001b[0m data_c\u001b[38;5;241m=\u001b[39ms\u001b[38;5;241m.\u001b[39mmeasurement\n\u001b[0;32m      7\u001b[0m s\u001b[38;5;241m.\u001b[39mplot()\n",
      "File \u001b[1;32mc:\\Users\\nataa\\Documents\\servicio-social\\env_ss\\Lib\\site-packages\\specdal\\spectrum.py:55\u001b[0m, in \u001b[0;36mSpectrum.__init__\u001b[1;34m(self, name, filepath, measurement, measure_type, metadata, interpolated, stitched, jump_corrected, vector_normalized, derivative_order, verbose)\u001b[0m\n\u001b[0;32m     53\u001b[0m \u001b[38;5;28mself\u001b[39m\u001b[38;5;241m.\u001b[39mderivative_order \u001b[38;5;241m=\u001b[39m derivative_order\n\u001b[0;32m     54\u001b[0m \u001b[38;5;28;01mif\u001b[39;00m filepath:\n\u001b[1;32m---> 55\u001b[0m     \u001b[38;5;28;43mself\u001b[39;49m\u001b[38;5;241;43m.\u001b[39;49m\u001b[43mread\u001b[49m\u001b[43m(\u001b[49m\u001b[43mfilepath\u001b[49m\u001b[43m,\u001b[49m\u001b[43m \u001b[49m\u001b[43mmeasure_type\u001b[49m\u001b[43m,\u001b[49m\u001b[43m \u001b[49m\u001b[43mverbose\u001b[49m\u001b[38;5;241;43m=\u001b[39;49m\u001b[43mverbose\u001b[49m\u001b[43m)\u001b[49m\n",
      "File \u001b[1;32mc:\\Users\\nataa\\Documents\\servicio-social\\env_ss\\Lib\\site-packages\\specdal\\spectrum.py:79\u001b[0m, in \u001b[0;36mSpectrum.read\u001b[1;34m(self, filepath, measure_type, verbose)\u001b[0m\n\u001b[0;32m     75\u001b[0m \u001b[38;5;28;01mdef\u001b[39;00m \u001b[38;5;21mread\u001b[39m(\u001b[38;5;28mself\u001b[39m, filepath, measure_type, verbose\u001b[38;5;241m=\u001b[39m\u001b[38;5;28;01mFalse\u001b[39;00m):\n\u001b[0;32m     76\u001b[0m \u001b[38;5;250m    \u001b[39m\u001b[38;5;124;03m'''\u001b[39;00m\n\u001b[0;32m     77\u001b[0m \u001b[38;5;124;03m    Read measurement from a file.\u001b[39;00m\n\u001b[0;32m     78\u001b[0m \u001b[38;5;124;03m    '''\u001b[39;00m\n\u001b[1;32m---> 79\u001b[0m     data, meta \u001b[38;5;241m=\u001b[39m \u001b[43mread\u001b[49m\u001b[43m(\u001b[49m\u001b[43mfilepath\u001b[49m\u001b[43m,\u001b[49m\u001b[43m \u001b[49m\u001b[43mverbose\u001b[49m\u001b[38;5;241;43m=\u001b[39;49m\u001b[43mverbose\u001b[49m\u001b[43m)\u001b[49m\n\u001b[0;32m     80\u001b[0m     \u001b[38;5;28mself\u001b[39m\u001b[38;5;241m.\u001b[39mmetadata \u001b[38;5;241m=\u001b[39m meta\n\u001b[0;32m     81\u001b[0m     \u001b[38;5;28;01mif\u001b[39;00m measure_type \u001b[38;5;241m==\u001b[39m \u001b[38;5;124m'\u001b[39m\u001b[38;5;124mpct_reflect\u001b[39m\u001b[38;5;124m'\u001b[39m \u001b[38;5;129;01mand\u001b[39;00m \u001b[38;5;124m'\u001b[39m\u001b[38;5;124mpct_reflect\u001b[39m\u001b[38;5;124m'\u001b[39m \u001b[38;5;129;01mnot\u001b[39;00m \u001b[38;5;129;01min\u001b[39;00m data:\n",
      "File \u001b[1;32mc:\\Users\\nataa\\Documents\\servicio-social\\env_ss\\Lib\\site-packages\\specdal\\reader.py:17\u001b[0m, in \u001b[0;36mread\u001b[1;34m(filepath, read_data, read_metadata, verbose)\u001b[0m\n\u001b[0;32m     15\u001b[0m ext \u001b[38;5;241m=\u001b[39m splitext(filepath)[\u001b[38;5;241m1\u001b[39m]\n\u001b[0;32m     16\u001b[0m reader \u001b[38;5;241m=\u001b[39m SUPPORTED_READERS[ext]\n\u001b[1;32m---> 17\u001b[0m \u001b[38;5;28;01mreturn\u001b[39;00m \u001b[43mreader\u001b[49m\u001b[43m(\u001b[49m\u001b[43mabspath\u001b[49m\u001b[43m(\u001b[49m\u001b[43mexpanduser\u001b[49m\u001b[43m(\u001b[49m\u001b[43mfilepath\u001b[49m\u001b[43m)\u001b[49m\u001b[43m)\u001b[49m\u001b[43m,\u001b[49m\u001b[43m \u001b[49m\u001b[43mread_data\u001b[49m\u001b[43m,\u001b[49m\n\u001b[0;32m     18\u001b[0m \u001b[43m              \u001b[49m\u001b[43mread_metadata\u001b[49m\u001b[43m,\u001b[49m\u001b[43m \u001b[49m\u001b[43mverbose\u001b[49m\u001b[43m)\u001b[49m\n",
      "File \u001b[1;32mc:\\Users\\nataa\\Documents\\servicio-social\\env_ss\\Lib\\site-packages\\specdal\\reader.py:136\u001b[0m, in \u001b[0;36mread_asd\u001b[1;34m(filepath, read_data, read_metadata, verbose)\u001b[0m\n\u001b[0;32m    134\u001b[0m \u001b[38;5;28;01mif\u001b[39;00m read_metadata:\n\u001b[0;32m    135\u001b[0m     metadata \u001b[38;5;241m=\u001b[39m OrderedDict()\n\u001b[1;32m--> 136\u001b[0m \u001b[38;5;28;01mwith\u001b[39;00m \u001b[38;5;28;43mopen\u001b[39;49m\u001b[43m(\u001b[49m\u001b[43mabspath\u001b[49m\u001b[43m(\u001b[49m\u001b[43mexpanduser\u001b[49m\u001b[43m(\u001b[49m\u001b[43mfilepath\u001b[49m\u001b[43m)\u001b[49m\u001b[43m)\u001b[49m\u001b[43m,\u001b[49m\u001b[43m \u001b[49m\u001b[38;5;124;43m'\u001b[39;49m\u001b[38;5;124;43mrb\u001b[39;49m\u001b[38;5;124;43m'\u001b[39;49m\u001b[43m)\u001b[49m \u001b[38;5;28;01mas\u001b[39;00m f:\n\u001b[0;32m    137\u001b[0m     \u001b[38;5;28;01mif\u001b[39;00m verbose:\n\u001b[0;32m    138\u001b[0m         \u001b[38;5;28mprint\u001b[39m(\u001b[38;5;124m'\u001b[39m\u001b[38;5;124mreading \u001b[39m\u001b[38;5;132;01m{}\u001b[39;00m\u001b[38;5;124m'\u001b[39m\u001b[38;5;241m.\u001b[39mformat(filepath))\n",
      "\u001b[1;31mFileNotFoundError\u001b[0m: [Errno 2] No such file or directory: 'c:\\\\Users\\\\nataa\\\\Documents\\\\servicio-social\\\\notebooks\\\\Espectros FORS\\\\A00012.asd'"
     ]
    }
   ],
   "source": [
    "import specdal\n",
    "# Pigmento\n",
    "a00012 = 'Espectros FORS/A00012.asd'\n",
    "\n",
    "s = specdal.Spectrum(filepath=a00012)\n",
    "data_c=s.measurement\n",
    "s.plot()\n",
    "\n",
    "s.derivative()\n",
    "s.plot()"
   ]
  },
  {
   "cell_type": "code",
   "execution_count": null,
   "metadata": {
    "colab": {
     "base_uri": "https://localhost:8080/",
     "height": 449
    },
    "executionInfo": {
     "elapsed": 1506,
     "status": "ok",
     "timestamp": 1696356985257,
     "user": {
      "displayName": "Natalia Abigail Pérez Romero",
      "userId": "02764911894153294828"
     },
     "user_tz": 360
    },
    "id": "SDRJltP6nUni",
    "outputId": "ea5205d9-ef77-4e35-8dd8-b3430cbc8ebc"
   },
   "outputs": [
    {
     "data": {
      "image/png": "[encoded data removed]",
      "text/plain": [
       "<Figure size 640x480 with 1 Axes>"
      ]
     },
     "metadata": {},
     "output_type": "display_data"
    }
   ],
   "source": [
    "# estándares 131-blanco, 132-Amarillo, 133-Rojo, 134-Azul y 135-Verde.\n",
    "\n",
    "# Estandar blanco\n",
    "a00131 = 'Espectros FORS/A00131.asd'\n",
    "a131 = specdal.Spectrum(filepath=a00131)\n",
    "a131.plot()\n",
    "data_blanco = a131.measurement\n",
    "\n",
    "\n",
    "# Estandar amarillo\n",
    "a00132 = 'Espectros FORS/A00132.asd'\n",
    "a132 = specdal.Spectrum(filepath=a00132)\n",
    "a132.plot()\n",
    "data_amarillo = a132.measurement\n",
    "\n",
    "\n",
    "# Estandar rojo\n",
    "a00133 = 'Espectros FORS/A00133.asd'\n",
    "a133 = specdal.Spectrum(filepath=a00133)\n",
    "a133.plot()\n",
    "data_rojo = a133.measurement\n",
    "\n",
    "# Estandar azul\n",
    "a00134 = 'Espectros FORS/A00134.asd'\n",
    "a134 = specdal.Spectrum(filepath=a00134)\n",
    "a134.plot()\n",
    "data_azul = a134.measurement\n",
    "\n",
    "# Estandar verde\n",
    "a00135 = 'Espectros FORS/A00135.asd'\n",
    "a135 = specdal.Spectrum(filepath=a00135)\n",
    "a135.plot()\n",
    "data_verde = a135.measurement"
   ]
  },
  {
   "cell_type": "markdown",
   "metadata": {
    "id": "qOuQD1v_tGvC"
   },
   "source": [
    "# K-Nearest Neighbors Algorithm\n",
    "\n",
    "The k-nearest neighbors algorithm, also known as KNN or k-NN, is a non-parametric, supervised learning classifier, which uses proximity to make classifications or predictions about the grouping of an individual data point. While it can be used for either regression or classification problems, it is typically used as a classification algorithm, working off the assumption that similar points can be found near one another.\n",
    "\n",
    "https://www.ibm.com/topics/knn\n",
    "\n"
   ]
  },
  {
   "cell_type": "markdown",
   "metadata": {
    "id": "gxzSQnrjuEPB"
   },
   "source": [
    "The KNN Algorithm\n",
    "1. Load the data\n",
    "2. Initialize K to your chosen number of neighbors\n",
    "3. For each example in the data\n",
    "  3. 1 Calculate the distance between the query example and the current example from the data.\n",
    "  3. 2 Add the distance and the index of the example to an ordered collection\n",
    "\n",
    "4. Sort the ordered collection of distances and indices from smallest to largest (in ascending order) by the distances\n",
    "\n",
    "5. Pick the first K entries from the sorted collection\n",
    "\n",
    "6. Get the labels of the selected K entries\n",
    "\n",
    "7. If regression, return the mean of the K labels\n",
    "\n",
    "8. If classification, return the mode of the K labels"
   ]
  },
  {
   "cell_type": "markdown",
   "metadata": {
    "id": "Kzkw6XphplS6"
   },
   "source": [
    "# Ejemplo de NearestNeighbors\n",
    "\n",
    "Docs: https://scikit-learn.org/stable/modules/neighbors.html\n"
   ]
  },
  {
   "cell_type": "code",
   "execution_count": null,
   "metadata": {
    "executionInfo": {
     "elapsed": 1402,
     "status": "ok",
     "timestamp": 1696356986651,
     "user": {
      "displayName": "Natalia Abigail Pérez Romero",
      "userId": "02764911894153294828"
     },
     "user_tz": 360
    },
    "id": "w91DnRQPpuMr"
   },
   "outputs": [],
   "source": [
    "from sklearn.neighbors import NearestNeighbors\n",
    "import numpy as np\n",
    "X = np.array([[-1, -1], [-2, -1], [-3, -2], [1, 1], [2, 1], [3, 2]])\n",
    "nbrs = NearestNeighbors(n_neighbors=2, algorithm='ball_tree').fit(X)\n",
    "distances, indices = nbrs.kneighbors(X)"
   ]
  },
  {
   "cell_type": "code",
   "execution_count": null,
   "metadata": {
    "colab": {
     "base_uri": "https://localhost:8080/"
    },
    "executionInfo": {
     "elapsed": 451,
     "status": "ok",
     "timestamp": 1696356987098,
     "user": {
      "displayName": "Natalia Abigail Pérez Romero",
      "userId": "02764911894153294828"
     },
     "user_tz": 360
    },
    "id": "mbgiBGvhsYVM",
    "outputId": "e284bc36-ff0c-4ad3-d697-a934a974d9f3"
   },
   "outputs": [
    {
     "name": "stdout",
     "output_type": "stream",
     "text": [
      "[[0.00000000e+00 2.11518746e+01]\n",
      " [6.74349576e-07 2.11518746e+01]]\n"
     ]
    },
    {
     "data": {
      "text/plain": [
       "array([[1., 1.],\n",
       "       [1., 1.]])"
      ]
     },
     "execution_count": 5,
     "metadata": {},
     "output_type": "execute_result"
    }
   ],
   "source": [
    "X = np.array([data_c,data_rojo])#,data_a])\n",
    "nbrs = NearestNeighbors(n_neighbors=2).fit(X)\n",
    "distances, indices = nbrs.kneighbors(X)\n",
    "print(distances)\n",
    "nbrs.kneighbors_graph(X).toarray()"
   ]
  },
  {
   "cell_type": "code",
   "execution_count": null,
   "metadata": {
    "colab": {
     "base_uri": "https://localhost:8080/"
    },
    "executionInfo": {
     "elapsed": 7,
     "status": "ok",
     "timestamp": 1696356987098,
     "user": {
      "displayName": "Natalia Abigail Pérez Romero",
      "userId": "02764911894153294828"
     },
     "user_tz": 360
    },
    "id": "C1ECfuFkBs0F",
    "outputId": "49b586b3-45ef-4e73-95fa-dc449d4ff0c0"
   },
   "outputs": [
    {
     "data": {
      "text/plain": [
       "0.3159091691877229"
      ]
     },
     "execution_count": 6,
     "metadata": {},
     "output_type": "execute_result"
    }
   ],
   "source": [
    "X[1][1]"
   ]
  },
  {
   "cell_type": "markdown",
   "metadata": {
    "id": "rVOCcLeou4f_"
   },
   "source": [
    "MultiClass Classification Using K-Nearest Neighbours\n",
    "\n",
    "https://towardsdatascience.com/multiclass-classification-using-k-nearest-neighbours-ca5281a9ef76"
   ]
  },
  {
   "cell_type": "markdown",
   "metadata": {
    "id": "7mYRged-3vXy"
   },
   "source": [
    "\n",
    "# Spectral–Spatial HyperspectralImage Classification With K-Nearest Neighbor and Guided Filter\n",
    "https://ieeexplore.ieee.org/document/8327484\n",
    "\n",
    "KNN algorithm is a non-parametric method widely used for classification in pattern recognition. The main principle of KNN is that category of a data point is determined according to the classification of the nearest K neighbors. Take\n",
    "$$T=\\{(x_1,y_1),(x_2,y_2),⋯,(x_N,y_N)\\}$$\n",
    "as a training set, and $N$ is the number of training entities. Here $x_i \\in R^d$ denotes the feature vectors, and $y_i \\in Y=\\{c_1,c_2,...,c_m\\}$ denotes the labels of classification, $i=1,2,\\dots,N$. Given an input $x$, we can obtain the k-nearest neighbors $N_k(x)$ by computing the distance with the traing"
   ]
  },
  {
   "cell_type": "markdown",
   "metadata": {
    "id": "SFcUHBTV-9YI"
   },
   "source": [
    "En nuestro caso: Tomemos $\\texttt{data\\_r}$ el espectro del éstandar rojo. El cual tiene $\\texttt{features: wavelength, reflectance}$\n",
    "\n",
    "https://numpy.org/doc/stable/reference/generated/numpy.ndarray.fill.html\n",
    "\n",
    "https://scikit-learn.org/stable/modules/generated/sklearn.neighbors.KNeighborsClassifier.html\n"
   ]
  },
  {
   "cell_type": "markdown",
   "metadata": {
    "id": "3--OJ5YbtjMN"
   },
   "source": [
    "fit(X, y)\n",
    "Fit the k-nearest neighbors classifier from the training dataset.\n",
    "\n",
    "Parameters:\n",
    "\n",
    "X **{array-like, sparse matrix}** of shape (n_samples, n_features) or (n_samples, n_samples) if metric=’precomputed’\n",
    "Training data.\n",
    "\n",
    "\n",
    "y **{array-like, sparse matrix}** of shape (n_samples,) or (n_samples, n_outputs)\n",
    "Target values."
   ]
  },
  {
   "cell_type": "markdown",
   "metadata": {
    "id": "V3qESpSQu11t"
   },
   "source": [
    "Mi implentación"
   ]
  },
  {
   "cell_type": "code",
   "execution_count": null,
   "metadata": {
    "colab": {
     "base_uri": "https://localhost:8080/"
    },
    "executionInfo": {
     "elapsed": 5459,
     "status": "ok",
     "timestamp": 1696356992552,
     "user": {
      "displayName": "Natalia Abigail Pérez Romero",
      "userId": "02764911894153294828"
     },
     "user_tz": 360
    },
    "id": "iZKf-06t-vYZ",
    "outputId": "576dd46c-dcfe-4ab2-d43c-c76ecfc0ffbc"
   },
   "outputs": [
    {
     "name": "stdout",
     "output_type": "stream",
     "text": [
      "[[1.03601978 2.        ]\n",
      " [1.05294596 2.        ]\n",
      " [1.03953671 2.        ]\n",
      " ...\n",
      " [0.66104343 2.        ]\n",
      " [0.67225805 2.        ]\n",
      " [0.69327012 2.        ]]\n",
      "X=\n",
      "[[0.31768012 2.        ]\n",
      " [0.3082156  2.        ]\n",
      " [0.28821778 2.        ]\n",
      " ...\n",
      " [1.03642899 2.        ]\n",
      " [1.03409547 2.        ]\n",
      " [1.02514164 2.        ]]\n"
     ]
    },
    {
     "name": "stdout",
     "output_type": "stream",
     "text": [
      "Prediccion=\n",
      "[['1171.0' '0.31690975709396774' 'verde']\n",
      " ['1175.0' '0.30771199349608047' 'verde']\n",
      " ['1183.0' '0.28787235538342215' 'verde']\n",
      " ...\n",
      " ['1023.0' '1.0364192072956342' 'amarillo']\n",
      " ['1371.0' '1.0340701345989025' 'amarillo']\n",
      " ['1488.0' '1.025139617071973' 'amarillo']]\n",
      "{'blanco': 1490, 'amarillo': 7410, 'rojo': 1225, 'azul': 500, 'verde': 130}\n",
      "Probabilidad por clase: \n"
     ]
    },
    {
     "data": {
      "text/plain": [
       "array([[0.2, 0.2, 0. , 0. , 0.6],\n",
       "       [0.2, 0.2, 0. , 0. , 0.6],\n",
       "       [0.2, 0.2, 0. , 0. , 0.6],\n",
       "       ...,\n",
       "       [0.8, 0. , 0. , 0.2, 0. ],\n",
       "       [0.8, 0. , 0.2, 0. , 0. ],\n",
       "       [0.8, 0. , 0.2, 0. , 0. ]])"
      ]
     },
     "execution_count": 7,
     "metadata": {},
     "output_type": "execute_result"
    }
   ],
   "source": [
    "import pandas as pd\n",
    "from sklearn.neighbors import KNeighborsClassifier\n",
    "\n",
    "import numpy as np\n",
    "\n",
    "# Crear dataFrame apropiado para el modelo\n",
    "# Tiene la forma wavelength, reflectance, class\n",
    "\n",
    "# estándares 131-blanco, 132-Amarillo, 133-Rojo, 134-Azul y 135-Verde.\n",
    "reflectance = np.array(data_blanco)\n",
    "size = len(reflectance) #size=2151\n",
    "indexes=data_amarillo.index\n",
    "\n",
    "\n",
    "tmp_class = ['blanco' for i in range(size)]\n",
    "reflectance = np.array(data_blanco)\n",
    "array_b = np.stack([indexes,reflectance,tmp_class], axis=1)\n",
    "\n",
    "tmp_class = ['amarillo' for i in range(size)]\n",
    "reflectance = np.array(data_amarillo)\n",
    "array_a = np.stack([indexes,reflectance,tmp_class], axis=1)\n",
    "\n",
    "tmp_class = ['rojo' for i in range(size)]\n",
    "reflectance = np.array(data_rojo)\n",
    "array_r = np.stack([indexes,reflectance,tmp_class], axis=1)\n",
    "\n",
    "tmp_class = ['azul' for i in range(size)]\n",
    "\n",
    "reflectance = np.array(data_azul)\n",
    "array_z = np.stack([indexes,reflectance,tmp_class], axis=1)\n",
    "\n",
    "tmp_class = ['verde' for i in range(size)]\n",
    "reflectance = np.array(data_verde)\n",
    "array_v = np.stack([indexes,reflectance,tmp_class], axis=1)\n",
    "\n",
    "# Concatenate Target values\n",
    "y = np.concatenate((array_b,array_a,array_r,array_z,array_v))\n",
    "#print(\"Y=\")\n",
    "#print(y)\n",
    "\n",
    "# X Training data\n",
    "X_b = np.array(data_blanco)\n",
    "X_a = np.array(data_amarillo)\n",
    "X_r = np.array(data_rojo)\n",
    "X_z = np.array(data_azul)\n",
    "X_v = np.array(data_verde)\n",
    "\n",
    "t = [2 for i in range(len(reflectance))]\n",
    "array_X_b = np.stack([X_b,t], axis=1)\n",
    "array_X_a = np.stack([X_a,t], axis=1)\n",
    "array_X_r = np.stack([X_r,t], axis=1)\n",
    "array_X_z = np.stack([X_z,t], axis=1)\n",
    "array_X_v = np.stack([X_v,t], axis=1)\n",
    "array_X = np.concatenate((array_X_b,array_X_a,array_X_r,array_X_z,array_X_v))\n",
    "print(array_X)\n",
    "\n",
    "# = data_a  # y Target values\n",
    "classes = np.array(['blanco','amarillo','rojo','azul','verde'])\n",
    "neigh = KNeighborsClassifier()\n",
    "neigh.classes_ = classes\n",
    "neigh.n_features_in_=2\n",
    "neigh.n_jobs=3\n",
    "\n",
    "neigh.fit(array_X,y)\n",
    "\n",
    "\n",
    "X = np.array(data_amarillo)\n",
    "t = [2 for i in range(len(reflectance))]\n",
    "array_X = np.stack([X,t], axis=1)\n",
    "print(\"X=\")\n",
    "array_X = np.concatenate((array_X,array_X,array_X,array_X,array_X))\n",
    "print(array_X)\n",
    "\n",
    "prediccion=neigh.predict(array_X)\n",
    "print(\"Prediccion=\")\n",
    "print(prediccion)\n",
    "frec = {'blanco':0,'amarillo':0,'rojo':0,'azul':0,'verde':0}\n",
    "for ren in prediccion:\n",
    "  elem=ren[2]\n",
    "  if elem in frec:\n",
    "    frec[elem] +=1\n",
    "\n",
    "print(frec)\n",
    "\n",
    "print(\"Probabilidad por clase: \")\n",
    "neigh.predict_proba(array_X)[2]\n",
    "\n"
   ]
  },
  {
   "cell_type": "markdown",
   "metadata": {
    "id": "nhIFhjlt719i"
   },
   "source": [
    "Ahora que puede clasificarse a si mismo, podemos probar con una ceramica"
   ]
  },
  {
   "cell_type": "code",
   "execution_count": null,
   "metadata": {
    "colab": {
     "base_uri": "https://localhost:8080/"
    },
    "executionInfo": {
     "elapsed": 8390,
     "status": "ok",
     "timestamp": 1696357000936,
     "user": {
      "displayName": "Natalia Abigail Pérez Romero",
      "userId": "02764911894153294828"
     },
     "user_tz": 360
    },
    "id": "N3rtNlyq8HL6",
    "outputId": "235ac751-07c9-4187-f563-f05e9864009b"
   },
   "outputs": [
    {
     "name": "stdout",
     "output_type": "stream",
     "text": [
      "X=\n",
      "[[0.23030175 2.        ]\n",
      " [0.24164036 2.        ]\n",
      " [0.23810332 2.        ]\n",
      " ...\n",
      " [0.44968123 2.        ]\n",
      " [0.43788075 2.        ]\n",
      " [0.42488017 2.        ]]\n"
     ]
    },
    {
     "name": "stdout",
     "output_type": "stream",
     "text": [
      "Prediccion=\n",
      "[['1208.0' '0.2288434510918073' 'azul']\n",
      " ['1202.0' '0.2408542683893737' 'azul']\n",
      " ['1204.0' '0.23742775604262517' 'azul']\n",
      " ...\n",
      " ['1234.0' '0.4486554097073453' 'verde']\n",
      " ['1243.0' '0.43683594629755873' 'verde']\n",
      " ['1131.0' '0.42380791064626616' 'verde']]\n",
      "{'blanco': 0, 'amarillo': 0, 'rojo': 0, 'azul': 2840, 'verde': 7915}\n",
      "Probabilidad por clase: \n"
     ]
    },
    {
     "data": {
      "text/plain": [
       "array([[0. , 0.6, 0. , 0. , 0.4],\n",
       "       [0. , 0.8, 0. , 0. , 0.2],\n",
       "       [0.2, 0.4, 0. , 0.2, 0.2],\n",
       "       ...,\n",
       "       [0. , 0.4, 0. , 0. , 0.6],\n",
       "       [0. , 0.2, 0. , 0.2, 0.6],\n",
       "       [0. , 0.4, 0. , 0. , 0.6]])"
      ]
     },
     "execution_count": 8,
     "metadata": {},
     "output_type": "execute_result"
    }
   ],
   "source": [
    "X = np.array(data_c)\n",
    "t = [2 for i in range(len(reflectance))]\n",
    "array_X = np.stack([X,t], axis=1)\n",
    "print(\"X=\")\n",
    "array_X = np.concatenate((array_X,array_X,array_X,array_X,array_X))\n",
    "print(array_X)\n",
    "\n",
    "prediccion=neigh.predict(array_X)\n",
    "print(\"Prediccion=\")\n",
    "print(prediccion)\n",
    "frec = {'blanco':0,'amarillo':0,'rojo':0,'azul':0,'verde':0}\n",
    "for ren in prediccion:\n",
    "  elem=ren[2]\n",
    "  if elem in frec:\n",
    "    frec[elem] +=1\n",
    "\n",
    "print(frec)\n",
    "\n",
    "print(\"Probabilidad por clase: \")\n",
    "neigh.predict_proba(array_X)[2]\n"
   ]
  },
  {
   "cell_type": "markdown",
   "metadata": {
    "id": "g7R-5zpe_U3D"
   },
   "source": [
    "# Seccionar espectro\n"
   ]
  },
  {
   "cell_type": "code",
   "execution_count": null,
   "metadata": {
    "colab": {
     "base_uri": "https://localhost:8080/"
    },
    "executionInfo": {
     "elapsed": 8,
     "status": "ok",
     "timestamp": 1696357000937,
     "user": {
      "displayName": "Natalia Abigail Pérez Romero",
      "userId": "02764911894153294828"
     },
     "user_tz": 360
    },
    "id": "e2jq5Hm5pSJ9",
    "outputId": "134c413c-2517-4c80-eece-7445756a4ee9"
   },
   "outputs": [
    {
     "name": "stdout",
     "output_type": "stream",
     "text": [
      "[(0.31, 0.359], (0.261, 0.31], (0.261, 0.31], (0.261, 0.31], (0.261, 0.31], ..., (0.997, 1.046], (0.997, 1.046], (0.997, 1.046], (0.997, 1.046], (0.997, 1.046]]\n",
      "Length: 2151\n",
      "Categories (20, interval[float64, right]): [(0.0634, 0.113] < (0.113, 0.163] < (0.163, 0.212] < (0.212, 0.261] ... (0.849, 0.898] < (0.898, 0.947] < (0.947, 0.997] < (0.997, 1.046]]\n"
     ]
    },
    {
     "data": {
      "text/plain": [
       "array([Interval(0.31, 0.359, closed='right'),\n",
       "       Interval(0.261, 0.31, closed='right'),\n",
       "       Interval(0.261, 0.31, closed='right'), ...,\n",
       "       Interval(0.997, 1.046, closed='right'),\n",
       "       Interval(0.997, 1.046, closed='right'),\n",
       "       Interval(0.997, 1.046, closed='right')], dtype=object)"
      ]
     },
     "execution_count": 9,
     "metadata": {},
     "output_type": "execute_result"
    }
   ],
   "source": [
    "s=pd.cut(data_amarillo, 20)\n",
    "print(s.values)\n",
    "s.__array__()"
   ]
  },
  {
   "cell_type": "markdown",
   "metadata": {
    "id": "sBzus58dMLt-"
   },
   "source": [
    "# Bayes ingenuo\n",
    "\n",
    "Naive Bayes classifier calculates the probability of an event in the following steps:\n",
    "\n",
    "Step 1: Calculate the prior probability for given class labels\n",
    "\n",
    "Step 2: Find Likelihood probability with each attribute for each class\n",
    "\n",
    "Step 3: Put these value in Bayes Formula and calculate posterior probability.\n",
    "\n",
    "Step 4: See which class has a higher probability, given the input belongs to the higher probability class.\n",
    "\n",
    "https://www.datacamp.com/tutorial/naive-bayes-scikit-learn\n",
    "\n",
    "X: array-like of shape (n_samples, n_features)\n",
    "Training vectors, where n_samples is the number of samples and n_features is the number of features.\n",
    "\n",
    "y: array-like of shape (n_samples,)\n",
    "Target values."
   ]
  },
  {
   "cell_type": "markdown",
   "metadata": {
    "id": "uNEu_ttZ08ll"
   },
   "source": [
    "# Ejemplo"
   ]
  },
  {
   "cell_type": "code",
   "execution_count": null,
   "metadata": {
    "colab": {
     "base_uri": "https://localhost:8080/"
    },
    "executionInfo": {
     "elapsed": 171,
     "status": "ok",
     "timestamp": 1696361197366,
     "user": {
      "displayName": "Natalia Abigail Pérez Romero",
      "userId": "02764911894153294828"
     },
     "user_tz": 360
    },
    "id": "0wQJs5W8MZMb",
    "outputId": "3d04a025-b394-4d12-f4af-980bf304d72b"
   },
   "outputs": [
    {
     "name": "stdout",
     "output_type": "stream",
     "text": [
      "['malignant' 'benign']\n",
      "0\n",
      "mean radius\n",
      "30\n",
      "[0 1]\n"
     ]
    }
   ],
   "source": [
    "import sklearn\n",
    "from sklearn.datasets import load_breast_cancer\n",
    "from sklearn.model_selection import train_test_split\n",
    "\n",
    "data = load_breast_cancer()\n",
    "label_names = data['target_names']\n",
    "labels = data['target']\n",
    "feature_names = data['feature_names']\n",
    "features = data['data']\n",
    "print(label_names)\n",
    "print(labels[0])\n",
    "print(feature_names[0])\n",
    "print(features[0].size)\n",
    "train, test, train_labels, test_labels = train_test_split(\n",
    "   features,labels,test_size = 0.40, random_state = 42\n",
    ")\n",
    "from sklearn.naive_bayes import GaussianNB\n",
    "GNBclf = GaussianNB()\n",
    "model = GNBclf.fit(train, train_labels)\n",
    "print(GNBclf.classes_)\n",
    "#preds = GNBclf.predict(test)\n",
    "#print(preds)"
   ]
  },
  {
   "cell_type": "markdown",
   "metadata": {
    "id": "EkYCS2VRW5EY"
   },
   "source": [
    "----\n",
    "# Aplicación"
   ]
  },
  {
   "cell_type": "code",
   "execution_count": null,
   "metadata": {
    "colab": {
     "base_uri": "https://localhost:8080/"
    },
    "editable": true,
    "executionInfo": {
     "elapsed": 180,
     "status": "ok",
     "timestamp": 1696362803289,
     "user": {
      "displayName": "Natalia Abigail Pérez Romero",
      "userId": "02764911894153294828"
     },
     "user_tz": 360
    },
    "id": "0WLi7wmaW7YR",
    "outputId": "45c1d3eb-5150-48fa-b245-5245764ed4f7",
    "slideshow": {
     "slide_type": ""
    },
    "tags": []
   },
   "outputs": [
    {
     "name": "stdout",
     "output_type": "stream",
     "text": [
      "[[1.03601978 1.05294596 1.03953671 ... 1.00538038 1.0343035  1.03891048]\n",
      " [0.31768012 0.3082156  0.28821778 ... 1.03642899 1.03409547 1.02514164]\n",
      " [0.32647601 0.31590917 0.29360698 ... 1.03742153 1.03308728 1.01794518]\n",
      " [0.52832173 0.54037536 0.53842611 ... 0.70281517 0.70404747 0.70269812]\n",
      " [0.20235901 0.19870536 0.19542333 ... 0.66104343 0.67225805 0.69327012]]\n",
      "[2, 3, 0, 4]\n",
      "(4, 2151)\n",
      "[0 2 3 4]\n"
     ]
    },
    {
     "data": {
      "text/plain": [
       "array([0, 2, 2, 3, 4])"
      ]
     },
     "execution_count": 11,
     "metadata": {},
     "output_type": "execute_result"
    }
   ],
   "source": [
    "import sklearn\n",
    "from sklearn.model_selection import train_test_split\n",
    "# data = {[X_b,X_a,...], [blanco,rojo],\n",
    "#label_names = data['target_names']\n",
    "label_names =  ['blanco','amarillo','rojo','azul','verde']\n",
    "\n",
    "#labels = data['target']\n",
    "labels = [0,1,2,3,4]\n",
    "\n",
    "#feature_names = data['feature_names']\n",
    "feature_names = ['wavelength','reflectance']\n",
    "\n",
    "#features = data['data']\n",
    "features = np.array((X_b,X_a,X_r,X_z,X_v))\n",
    "print(features)\n",
    "\n",
    "#print(label_names)\n",
    "#print(labels[0])\n",
    "#print(feature_names[1])\n",
    "#print(features[0])\n",
    "train, test, train_labels, test_labels = train_test_split(\n",
    "   features,labels,test_size = 0.010, random_state = 22\n",
    ")\n",
    "\n",
    "from sklearn.naive_bayes import GaussianNB\n",
    "GNBclf = GaussianNB()\n",
    "print(train_labels)\n",
    "print(train.shape)\n",
    "\n",
    "model = GNBclf.fit(train, train_labels)\n",
    "print(model.classes_)\n",
    "test=[data_blanco,data_amarillo,data_rojo,data_azul,data_verde]\n",
    "preds = GNBclf.predict(test)\n",
    "\n",
    "preds"
   ]
  },
  {
   "cell_type": "markdown",
   "metadata": {
    "id": "Zyc74wIkOktw"
   },
   "source": [
    "# Linear regression"
   ]
  },
  {
   "cell_type": "code",
   "execution_count": null,
   "metadata": {
    "executionInfo": {
     "elapsed": 244,
     "status": "aborted",
     "timestamp": 1696357001920,
     "user": {
      "displayName": "Natalia Abigail Pérez Romero",
      "userId": "02764911894153294828"
     },
     "user_tz": 360
    },
    "id": "vV0oJ_lsOoUH"
   },
   "outputs": [
    {
     "name": "stdout",
     "output_type": "stream",
     "text": [
      "pb[0] = -0.0\n",
      "pb[1] = 1.43\n",
      "pb[2] = 2.0\n",
      "pb[3] = 3.0\n",
      "pb[4] = 4.0\n"
     ]
    }
   ],
   "source": [
    "from sklearn.linear_model import LinearRegression\n",
    "reg = LinearRegression().fit(train, train_labels)\n",
    "reg.score(train, train_labels)\n",
    "pb = reg.predict(np.array([data_blanco,data_amarillo,data_rojo,data_azul,data_verde]))\n",
    "print(\"pb[0] =\",round(pb[0],2))\n",
    "print(\"pb[1] =\",round(pb[1],2))\n",
    "print(\"pb[2] =\",round(pb[2],2))\n",
    "print(\"pb[3] =\",round(pb[3],2))\n",
    "print(\"pb[4] =\",round(pb[4],2))"
   ]
  },
  {
   "cell_type": "markdown",
   "metadata": {
    "id": "yleci7pUDwmd"
   },
   "source": [
    "#ToDo\n",
    "Bayes ingenueo con colores y pigmentos.\n",
    "\n",
    "\n",
    "Aplicar k.vecinos en pigmentos"
   ]
  },
  {
   "cell_type": "markdown",
   "metadata": {},
   "source": [
    "# Logistic Regression"
   ]
  },
  {
   "cell_type": "code",
   "execution_count": null,
   "metadata": {},
   "outputs": [
    {
     "data": {
      "text/plain": [
       "array([0, 2, 2, 3, 4])"
      ]
     },
     "execution_count": 13,
     "metadata": {},
     "output_type": "execute_result"
    }
   ],
   "source": [
    "from sklearn.linear_model import LogisticRegression\n",
    "from sklearn.pipeline import make_pipeline\n",
    "from sklearn.preprocessing import StandardScaler\n",
    "\n",
    "clf = LogisticRegression(penalty='l2',solver='lbfgs', max_iter=400)\n",
    "#make_pipeline(StandardScaler(), LogisticRegression())\n",
    "clf.fit(train, train_labels)\n",
    "clf.score(train, train_labels)\n",
    "clf.predict_proba(np.array([data_blanco,data_amarillo,data_rojo,data_azul,data_verde]))\n",
    "clf.predict(np.array([data_blanco,data_amarillo,data_rojo,data_azul,data_verde]))\n"
   ]
  },
  {
   "cell_type": "markdown",
   "metadata": {},
   "source": [
    "# Perceptron"
   ]
  },
  {
   "cell_type": "code",
   "execution_count": null,
   "metadata": {},
   "outputs": [
    {
     "data": {
      "text/plain": [
       "array([2, 3, 0, 4])"
      ]
     },
     "execution_count": 14,
     "metadata": {},
     "output_type": "execute_result"
    }
   ],
   "source": [
    "from sklearn.datasets import load_digits\n",
    "from sklearn.linear_model import Perceptron\n",
    "clf = Perceptron(tol=1e-3, random_state=0)\n",
    "clf.fit(train, train_labels)\n",
    "Perceptron()\n",
    "clf.score(train, train_labels)\n",
    "clf.predict(train)"
   ]
  },
  {
   "cell_type": "markdown",
   "metadata": {
    "id": "eSy5o2qqDuIg"
   },
   "source": [
    "# TODO -despues\n",
    "Trabajar anterior con redes"
   ]
  },
  {
   "cell_type": "markdown",
   "metadata": {},
   "source": [
    "## Ejemplo red neuronal"
   ]
  },
  {
   "cell_type": "code",
   "execution_count": null,
   "metadata": {},
   "outputs": [
    {
     "name": "stdout",
     "output_type": "stream",
     "text": [
      "Using cpu device\n",
      "NeuralNetwork(\n",
      "  (flatten): Flatten(start_dim=1, end_dim=-1)\n",
      "  (linear_relu_stack): Sequential(\n",
      "    (0): Linear(in_features=784, out_features=512, bias=True)\n",
      "    (1): ReLU()\n",
      "    (2): Linear(in_features=512, out_features=512, bias=True)\n",
      "    (3): ReLU()\n",
      "    (4): Linear(in_features=512, out_features=10, bias=True)\n",
      "  )\n",
      ")\n",
      "tensor([[[0.5529, 0.3800, 0.7874, 0.2317, 0.4006, 0.1553, 0.3387, 0.3640,\n",
      "          0.5372, 0.1502, 0.9478, 0.3665, 0.0084, 0.0758, 0.5602, 0.5213,\n",
      "          0.4662, 0.1342, 0.2237, 0.7318, 0.7393, 0.8562, 0.3681, 0.8368,\n",
      "          0.6606, 0.4993, 0.5435, 0.8882],\n",
      "         [0.3430, 0.5439, 0.0355, 0.7544, 0.4006, 0.7185, 0.7234, 0.4571,\n",
      "          0.9630, 0.4553, 0.3002, 0.2350, 0.0428, 0.4054, 0.1553, 0.7572,\n",
      "          0.2821, 0.9230, 0.6189, 0.3186, 0.1798, 0.9477, 0.3348, 0.8993,\n",
      "          0.0865, 0.6354, 0.2635, 0.7785],\n",
      "         [0.1425, 0.3851, 0.9047, 0.5865, 0.7219, 0.5927, 0.9882, 0.0450,\n",
      "          0.5561, 0.2418, 0.9059, 0.6917, 0.9862, 0.2066, 0.7882, 0.8141,\n",
      "          0.2607, 0.5283, 0.0177, 0.7823, 0.8784, 0.7056, 0.1207, 0.1688,\n",
      "          0.1439, 0.0969, 0.7685, 0.0401],\n",
      "         [0.9761, 0.3757, 0.0876, 0.4621, 0.2982, 0.3054, 0.6097, 0.5405,\n",
      "          0.0801, 0.0047, 0.3985, 0.9705, 0.0512, 0.9413, 0.2463, 0.7001,\n",
      "          0.6157, 0.7580, 0.7919, 0.3571, 0.7311, 0.7325, 0.5340, 0.2836,\n",
      "          0.5673, 0.5021, 0.3495, 0.8818],\n",
      "         [0.9455, 0.9572, 0.1974, 0.0232, 0.1694, 0.3194, 0.0930, 0.5116,\n",
      "          0.4024, 0.7620, 0.4026, 0.9801, 0.5670, 0.8079, 0.9926, 0.6335,\n",
      "          0.3970, 0.9234, 0.2778, 0.3965, 0.4717, 0.5490, 0.6666, 0.6686,\n",
      "          0.6724, 0.8621, 0.0128, 0.6681],\n",
      "         [0.5548, 0.6364, 0.6664, 0.1110, 0.7513, 0.4236, 0.8805, 0.2566,\n",
      "          0.7323, 0.9535, 0.3421, 0.1016, 0.7606, 0.6669, 0.2106, 0.6907,\n",
      "          0.5969, 0.2914, 0.2451, 0.0559, 0.7469, 0.0593, 0.2379, 0.7228,\n",
      "          0.7912, 0.2967, 0.7641, 0.3778],\n",
      "         [0.6865, 0.5162, 0.4311, 0.8058, 0.3796, 0.5626, 0.7090, 0.7865,\n",
      "          0.2342, 0.0993, 0.8298, 0.8132, 0.9037, 0.8404, 0.8245, 0.2523,\n",
      "          0.9277, 0.4455, 0.2199, 0.0068, 0.0411, 0.9588, 0.2140, 0.1500,\n",
      "          0.9894, 0.9588, 0.1692, 0.6513],\n",
      "         [0.3089, 0.8997, 0.1200, 0.3786, 0.6324, 0.8507, 0.6248, 0.0218,\n",
      "          0.9267, 0.9328, 0.5504, 0.5564, 0.6786, 0.0383, 0.2070, 0.1475,\n",
      "          0.6744, 0.0301, 0.6678, 0.6523, 0.9744, 0.6052, 0.2033, 0.4784,\n",
      "          0.5468, 0.0998, 0.5483, 0.9897],\n",
      "         [0.5350, 0.3367, 0.6770, 0.6997, 0.4594, 0.2757, 0.0921, 0.2677,\n",
      "          0.7649, 0.2941, 0.2942, 0.9897, 0.3041, 0.5706, 0.1059, 0.9061,\n",
      "          0.3095, 0.8762, 0.1098, 0.6174, 0.0899, 0.0683, 0.3083, 0.7192,\n",
      "          0.3276, 0.4809, 0.9143, 0.7999],\n",
      "         [0.0727, 0.1721, 0.0793, 0.1140, 0.9418, 0.6042, 0.5025, 0.1342,\n",
      "          0.3768, 0.2409, 0.1703, 0.2529, 0.0174, 0.7699, 0.3456, 0.9108,\n",
      "          0.8660, 0.1657, 0.6488, 0.7379, 0.2549, 0.4573, 0.2547, 0.1839,\n",
      "          0.9328, 0.2105, 0.2868, 0.4140],\n",
      "         [0.8114, 0.0903, 0.1826, 0.9164, 0.9803, 0.4406, 0.9047, 0.5398,\n",
      "          0.9376, 0.3809, 0.4659, 0.8669, 0.3052, 0.5655, 0.1396, 0.5704,\n",
      "          0.4943, 0.2347, 0.9966, 0.8274, 0.8474, 0.8586, 0.4927, 0.9392,\n",
      "          0.5551, 0.6317, 0.8983, 0.8041],\n",
      "         [0.7361, 0.1782, 0.5348, 0.5090, 0.1474, 0.8326, 0.2109, 0.0390,\n",
      "          0.0057, 0.1128, 0.5380, 0.5100, 0.5647, 0.7093, 0.8326, 0.5922,\n",
      "          0.8108, 0.8662, 0.5899, 0.2039, 0.6123, 0.2460, 0.3588, 0.1778,\n",
      "          0.7735, 0.7773, 0.1644, 0.2099],\n",
      "         [0.7752, 0.3799, 0.3172, 0.9262, 0.4893, 0.7368, 0.7607, 0.8294,\n",
      "          0.4531, 0.8523, 0.1926, 0.1506, 0.6312, 0.5202, 0.2701, 0.2494,\n",
      "          0.7392, 0.0413, 0.7656, 0.8359, 0.4635, 0.8631, 0.6251, 0.7943,\n",
      "          0.0085, 0.3751, 0.3760, 0.5199],\n",
      "         [0.7386, 0.7759, 0.3587, 0.5527, 0.5076, 0.9722, 0.8819, 0.3263,\n",
      "          0.7624, 0.4112, 0.7624, 0.6825, 0.1269, 0.6206, 0.8171, 0.2911,\n",
      "          0.4804, 0.7731, 0.3338, 0.5941, 0.1983, 0.3834, 0.8779, 0.1579,\n",
      "          0.0947, 0.8339, 0.5874, 0.7037],\n",
      "         [0.7477, 0.2156, 0.3619, 0.7493, 0.0391, 0.2604, 0.9861, 0.0187,\n",
      "          0.5303, 0.6642, 0.5880, 0.2265, 0.0670, 0.0788, 0.2727, 0.2038,\n",
      "          0.5895, 0.0121, 0.2147, 0.5872, 0.3334, 0.3305, 0.3098, 0.0311,\n",
      "          0.9253, 0.9239, 0.7795, 0.4711],\n",
      "         [0.1485, 0.3614, 0.2469, 0.0754, 0.6308, 0.4665, 0.1902, 0.4425,\n",
      "          0.5065, 0.6713, 0.0277, 0.5844, 0.6485, 0.7642, 0.6847, 0.7507,\n",
      "          0.1399, 0.5300, 0.4482, 0.4459, 0.2251, 0.9753, 0.9488, 0.9430,\n",
      "          0.3378, 0.6788, 0.9454, 0.5979],\n",
      "         [0.1594, 0.0714, 0.1288, 0.5100, 0.6689, 0.1547, 0.5380, 0.5790,\n",
      "          0.2801, 0.1249, 0.9224, 0.1633, 0.6132, 0.5801, 0.2987, 0.1006,\n",
      "          0.4747, 0.3681, 0.8334, 0.1720, 0.4272, 0.5968, 0.2422, 0.6637,\n",
      "          0.4759, 0.4211, 0.7433, 0.5555],\n",
      "         [0.2046, 0.6841, 0.6389, 0.1418, 0.5368, 0.6006, 0.8491, 0.7960,\n",
      "          0.5372, 0.4088, 0.1567, 0.3741, 0.6673, 0.8619, 0.6080, 0.9068,\n",
      "          0.8292, 0.2500, 0.0712, 0.8981, 0.9311, 0.5098, 0.1667, 0.4802,\n",
      "          0.4351, 0.2450, 0.9074, 0.1723],\n",
      "         [0.7636, 0.7523, 0.3855, 0.7215, 0.8895, 0.7397, 0.6034, 0.9028,\n",
      "          0.5039, 0.7412, 0.9577, 0.4277, 0.2132, 0.1962, 0.6601, 0.8764,\n",
      "          0.0022, 0.9370, 0.1565, 0.4998, 0.7849, 0.7824, 0.4237, 0.2032,\n",
      "          0.4561, 0.1075, 0.0090, 0.7367],\n",
      "         [0.7138, 0.9029, 0.2882, 0.1407, 0.1564, 0.3630, 0.7660, 0.6723,\n",
      "          0.8960, 0.7281, 0.5981, 0.6748, 0.6404, 0.8115, 0.2587, 0.2399,\n",
      "          0.6768, 0.4206, 0.5252, 0.0637, 0.4610, 0.0119, 0.0486, 0.6977,\n",
      "          0.9194, 0.5234, 0.2670, 0.5734],\n",
      "         [0.3124, 0.8762, 0.4312, 0.3583, 0.5270, 0.5741, 0.9059, 0.6376,\n",
      "          0.1959, 0.4130, 0.3558, 0.2630, 0.8305, 0.7015, 0.3151, 0.0988,\n",
      "          0.8210, 0.4669, 0.8037, 0.5293, 0.5089, 0.8582, 0.9433, 0.9063,\n",
      "          0.3597, 0.3408, 0.6260, 0.8107],\n",
      "         [0.2562, 0.8780, 0.2040, 0.5822, 0.9093, 0.5451, 0.0301, 0.4074,\n",
      "          0.3019, 0.3969, 0.9438, 0.1092, 0.8416, 0.7749, 0.7916, 0.6715,\n",
      "          0.8539, 0.3737, 0.3306, 0.7302, 0.0574, 0.8161, 0.3763, 0.8313,\n",
      "          0.0887, 0.2445, 0.9919, 0.3824],\n",
      "         [0.5400, 0.5863, 0.2700, 0.1506, 0.4113, 0.3063, 0.7033, 0.7849,\n",
      "          0.3954, 0.0448, 0.7168, 0.1741, 0.2396, 0.2902, 0.1095, 0.3242,\n",
      "          0.7057, 0.6747, 0.6883, 0.3286, 0.8042, 0.7662, 0.6755, 0.5751,\n",
      "          0.2424, 0.3891, 0.2390, 0.2136],\n",
      "         [0.5447, 0.7109, 0.5268, 0.5739, 0.4831, 0.7180, 0.1724, 0.0212,\n",
      "          0.4886, 0.5587, 0.8641, 0.5056, 0.9822, 0.2594, 0.3654, 0.2827,\n",
      "          0.5241, 0.8160, 0.6727, 0.5405, 0.5884, 0.8585, 0.8267, 0.2622,\n",
      "          0.0329, 0.9241, 0.1371, 0.0688],\n",
      "         [0.1842, 0.2015, 0.9270, 0.9970, 0.8425, 0.1615, 0.2962, 0.1226,\n",
      "          0.3764, 0.0060, 0.7430, 0.7119, 0.4895, 0.3563, 0.2377, 0.1166,\n",
      "          0.4472, 0.9386, 0.9502, 0.3203, 0.7781, 0.5720, 0.6553, 0.1881,\n",
      "          0.2160, 0.0600, 0.9427, 0.3382],\n",
      "         [0.5662, 0.4503, 0.8835, 0.2612, 0.8957, 0.1899, 0.4830, 0.6664,\n",
      "          0.1546, 0.6376, 0.1410, 0.1858, 0.9863, 0.4583, 0.3720, 0.7721,\n",
      "          0.2454, 0.6015, 0.1925, 0.1816, 0.2202, 0.1880, 0.9629, 0.8241,\n",
      "          0.8049, 0.9385, 0.2825, 0.8979],\n",
      "         [0.3271, 0.3465, 0.7328, 0.0326, 0.0833, 0.8227, 0.8735, 0.5352,\n",
      "          0.0502, 0.9799, 0.2418, 0.1856, 0.3879, 0.1446, 0.1785, 0.0732,\n",
      "          0.2651, 0.1494, 0.0445, 0.1132, 0.8997, 0.3976, 0.9358, 0.5987,\n",
      "          0.0301, 0.3746, 0.5047, 0.6311],\n",
      "         [0.3122, 0.1460, 0.7476, 0.9543, 0.6973, 0.6488, 0.7371, 0.9312,\n",
      "          0.9560, 0.8883, 0.6176, 0.3761, 0.5607, 0.7490, 0.1045, 0.5253,\n",
      "          0.9159, 0.8191, 0.8603, 0.0187, 0.6989, 0.6692, 0.8926, 0.3586,\n",
      "          0.2260, 0.9978, 0.0383, 0.0452]]])\n",
      "Predicted class: tensor([8])\n"
     ]
    }
   ],
   "source": [
    "import torch\n",
    "import torch.nn as nn\n",
    "import torch.nn.functional as F\n",
    "\n",
    "class NeuralNetwork(nn.Module):\n",
    "    def __init__(self):\n",
    "        super().__init__()\n",
    "        self.flatten = nn.Flatten()\n",
    "        self.linear_relu_stack = nn.Sequential(\n",
    "            nn.Linear(28*28, 512),\n",
    "            nn.ReLU(),\n",
    "            nn.Linear(512, 512),\n",
    "            nn.ReLU(),\n",
    "            nn.Linear(512, 10),\n",
    "        )\n",
    "\n",
    "    def forward(self, x):\n",
    "        x = self.flatten(x)\n",
    "        logits = self.linear_relu_stack(x)\n",
    "        return logits\n",
    "\n",
    "device = (\n",
    "    \"cuda\"\n",
    "    if torch.cuda.is_available()\n",
    "    else \"mps\"\n",
    "    if torch.backends.mps.is_available()\n",
    "    else \"cpu\"\n",
    ")\n",
    "print(f\"Using {device} device\")\n",
    "model = NeuralNetwork().to(device)\n",
    "print(model)\n",
    "\n",
    "X = torch.rand(1, 28, 28, device=device)\n",
    "print(X)\n",
    "logits = model(X)\n",
    "pred_probab = nn.Softmax(dim=1)(logits)\n",
    "y_pred = pred_probab.argmax(1)\n",
    "print(f\"Predicted class: {y_pred}\")"
   ]
  },
  {
   "cell_type": "markdown",
   "metadata": {},
   "source": [
    "## Aplicación\n",
    "https://www.learnpytorch.io/02_pytorch_classification/"
   ]
  },
  {
   "cell_type": "code",
   "execution_count": null,
   "metadata": {},
   "outputs": [
    {
     "name": "stdout",
     "output_type": "stream",
     "text": [
      "torch.Size([5, 2151, 3])\n"
     ]
    },
    {
     "data": {
      "text/plain": [
       "torch.Size([3, 2151, 5])"
      ]
     },
     "execution_count": 16,
     "metadata": {},
     "output_type": "execute_result"
    }
   ],
   "source": [
    "\n",
    "tmp_c = [0 for i in range(size)]\n",
    "array_X_b = np.stack([indexes,X_b,tmp_c], axis=1)\n",
    "\n",
    "tmp_c = [1 for i in range(size)]\n",
    "array_X_a = np.stack([indexes,X_a,tmp_c], axis=1)\n",
    "\n",
    "tmp_c = [2 for i in range(size)]\n",
    "array_X_r = np.stack([indexes,X_r,tmp_c], axis=1)\n",
    "\n",
    "tmp_c = [3 for i in range(size)]\n",
    "array_X_z = np.stack([indexes,X_z,tmp_c], axis=1)\n",
    "\n",
    "tmp_c = [4 for i in range(size)]\n",
    "array_X_v = np.stack([indexes,X_v,tmp_c], axis=1)\n",
    "\n",
    "x_np = np.array((array_X_b,array_X_a,array_X_r,array_X_z,array_X_v))\n",
    "\n",
    "xNP = torch.from_numpy(x_np)\n",
    "print(xNP.shape)\n",
    "xNP=xNP.reshape(3,2151,5)\n",
    "xNP.shape"
   ]
  },
  {
   "cell_type": "code",
   "execution_count": null,
   "metadata": {},
   "outputs": [
    {
     "ename": "NameError",
     "evalue": "name 'nn' is not defined",
     "output_type": "error",
     "traceback": [
      "\u001b[1;31m---------------------------------------------------------------------------\u001b[0m",
      "\u001b[1;31mNameError\u001b[0m                                 Traceback (most recent call last)",
      "Cell \u001b[1;32mIn[1], line 1\u001b[0m\n\u001b[1;32m----> 1\u001b[0m \u001b[38;5;28;01mclass\u001b[39;00m \u001b[38;5;21;01mEstandar\u001b[39;00m(\u001b[43mnn\u001b[49m\u001b[38;5;241m.\u001b[39mModule):\n\u001b[0;32m      2\u001b[0m     \u001b[38;5;28;01mdef\u001b[39;00m \u001b[38;5;21m__init__\u001b[39m(\u001b[38;5;28mself\u001b[39m):\n\u001b[0;32m      3\u001b[0m         \u001b[38;5;28msuper\u001b[39m()\u001b[38;5;241m.\u001b[39m\u001b[38;5;21m__init__\u001b[39m()\n",
      "\u001b[1;31mNameError\u001b[0m: name 'nn' is not defined"
     ]
    }
   ],
   "source": [
    "class Estandar(nn.Module):\n",
    "    def __init__(self):\n",
    "        super().__init__()\n",
    "        #self.linear_relu_stack = nn.Sequential(\n",
    "        self.conv1 = nn.Conv2d(2151, 3, kernel_size=3)\n",
    "        #self.fc=nn.Linear(2151*2, 1),\n",
    "        #nn.ReLU(),\n",
    "        #nn.Linear(512, 12),\n",
    "        #nn.ReLU(),\n",
    "           #nn.Linear(512, 10),\n",
    "        #)\n",
    "\n",
    "    def forward(self, x):\n",
    "        x = nn.MaxPool1d(3, stride=2)\n",
    "        #x= self.conv1(x)\n",
    "        return x\n",
    "device = (\n",
    "    \"cuda\"\n",
    "    if torch.cuda.is_available()\n",
    "    else \"mps\"\n",
    "    if torch.backends.mps.is_available()\n",
    "    else \"cpu\"\n",
    ")\n",
    "\n",
    "model = Estandar()\n",
    "\n",
    "criterion = nn.MSELoss()\n",
    "#optimizer = torch.optim.SGD(model.parameters(), lr=0.01)\n",
    "\n",
    "print(model.parameters)\n",
    "\n",
    "from torch.utils.data import DataLoader\n",
    "\n",
    "batch_size = 64  # Adjust as needed\n",
    "dataloader = DataLoader(train, batch_size=batch_size, shuffle=True)\n",
    "\n",
    "\n",
    "for epoch in range(100):\n",
    "    for batch in dataloader:\n",
    "        inputs = batch.float()  # Convert to float tensor if needed\n",
    "        outputs = model(inputs)\n",
    "        #loss = criterion(outputs, test)  # Define targets depending on your task\n",
    "        #optimizer.zero_grad()\n",
    "        #loss.backward()\n",
    "        #optimizer.step()\n"
   ]
  }
 ],
 "metadata": {
  "colab": {
   "authorship_tag": "ABX9TyOxZCYXX4gOR1WgMdDuyEbu",
   "mount_file_id": "12H2YPKYbwk7zDNk72ui6ZMwwYqb2Etsx",
   "provenance": []
  },
  "kernelspec": {
   "display_name": "Python 3 (ipykernel)",
   "language": "python",
   "name": "python3"
  },
  "language_info": {
   "codemirror_mode": {
    "name": "ipython",
    "version": 3
   },
   "file_extension": ".py",
   "mimetype": "text/x-python",
   "name": "python",
   "nbconvert_exporter": "python",
   "pygments_lexer": "ipython3",
   "version": "3.11.7"
  }
 },
 "nbformat": 4,
 "nbformat_minor": 4
}
